{
  "nbformat": 4,
  "nbformat_minor": 0,
  "metadata": {
    "colab": {
      "provenance": [],
      "gpuType": "T4"
    },
    "kernelspec": {
      "name": "python3",
      "display_name": "Python 3"
    },
    "language_info": {
      "name": "python"
    },
    "accelerator": "GPU"
  },
  "cells": [
    {
      "cell_type": "code",
      "execution_count": null,
      "metadata": {
        "id": "s1xo9ixMJ6kK",
        "colab": {
          "base_uri": "https://localhost:8080/"
        },
        "outputId": "baed687b-a207-4f9f-9a01-c0a7f0cd9e71"
      },
      "outputs": [
        {
          "output_type": "stream",
          "name": "stdout",
          "text": [
            "Drive already mounted at /content/drive; to attempt to forcibly remount, call drive.mount(\"/content/drive\", force_remount=True).\n"
          ]
        }
      ],
      "source": [
        "# !git clone https://github.com/KCDichDaNgu/KC4.0_MultilingualNMT.git\n",
        "from google.colab import drive\n",
        "drive.mount('/content/drive')\n",
        "\n",
        "# lấy project từ drive\n",
        "!cp -r /content/drive/MyDrive/KC4.0_MultilingualNMT /content/\n",
        "\n",
        "#xoá thư mục vừa tạo trên colab:\n",
        "# !rm -rf /content/KC4.0_MultilingualNMT\n"
      ]
    },
    {
      "cell_type": "code",
      "source": [
        "# ghi đè vào project trên drive\n",
        "!cp -ru /content/KC4.0_MultilingualNMT/* /content/drive/MyDrive/KC4.0_MultilingualNMT/"
      ],
      "metadata": {
        "id": "mX5uvFHDiIOI"
      },
      "execution_count": null,
      "outputs": []
    },
    {
      "cell_type": "markdown",
      "source": [
        "thêm dữ liệu VLSP2023 dịch Việt - Lào"
      ],
      "metadata": {
        "id": "pf-ZE9G8KSfD"
      }
    },
    {
      "cell_type": "code",
      "source": [
        "# !mkdir -p /content/KC4.0_MultilingualNMT/data/vlsp_vi_lo\n",
        "\n",
        "# !cp /content/drive/MyDrive/VLSP2023_vi_lo/train2023.vi /content/KC4.0_MultilingualNMT/data/vlsp_vi_lo/train.vi\n",
        "# !cp /content/drive/MyDrive/VLSP2023_vi_lo/train2023.lo /content/KC4.0_MultilingualNMT/data/vlsp_vi_lo/train.lo\n",
        "\n",
        "# # đổi tên file dev thành valid\n",
        "# !cp /content/drive/MyDrive/VLSP2023_vi_lo/dev2023.vi /content/KC4.0_MultilingualNMT/data/vlsp_vi_lo/valid.vi\n",
        "# !cp /content/drive/MyDrive/VLSP2023_vi_lo/dev2023.lo /content/KC4.0_MultilingualNMT/data/vlsp_vi_lo/valid.lo\n"
      ],
      "metadata": {
        "id": "Axw4b7O5N1h9"
      },
      "execution_count": null,
      "outputs": []
    },
    {
      "cell_type": "markdown",
      "source": [
        "**Requirements**"
      ],
      "metadata": {
        "id": "VGsaAzi-O5U3"
      }
    },
    {
      "cell_type": "code",
      "source": [
        "!pip install torch"
      ],
      "metadata": {
        "collapsed": true,
        "id": "0C9KVcsVOFG_",
        "colab": {
          "base_uri": "https://localhost:8080/"
        },
        "outputId": "6bb05a92-f1ae-46e4-c64e-a02a01044861"
      },
      "execution_count": null,
      "outputs": [
        {
          "output_type": "stream",
          "name": "stdout",
          "text": [
            "Requirement already satisfied: torch in /usr/local/lib/python3.11/dist-packages (2.6.0+cu124)\n",
            "Requirement already satisfied: filelock in /usr/local/lib/python3.11/dist-packages (from torch) (3.18.0)\n",
            "Requirement already satisfied: typing-extensions>=4.10.0 in /usr/local/lib/python3.11/dist-packages (from torch) (4.13.2)\n",
            "Requirement already satisfied: networkx in /usr/local/lib/python3.11/dist-packages (from torch) (3.4.2)\n",
            "Requirement already satisfied: jinja2 in /usr/local/lib/python3.11/dist-packages (from torch) (3.1.6)\n",
            "Requirement already satisfied: fsspec in /usr/local/lib/python3.11/dist-packages (from torch) (2025.3.2)\n",
            "Requirement already satisfied: nvidia-cuda-nvrtc-cu12==12.4.127 in /usr/local/lib/python3.11/dist-packages (from torch) (12.4.127)\n",
            "Requirement already satisfied: nvidia-cuda-runtime-cu12==12.4.127 in /usr/local/lib/python3.11/dist-packages (from torch) (12.4.127)\n",
            "Requirement already satisfied: nvidia-cuda-cupti-cu12==12.4.127 in /usr/local/lib/python3.11/dist-packages (from torch) (12.4.127)\n",
            "Requirement already satisfied: nvidia-cudnn-cu12==9.1.0.70 in /usr/local/lib/python3.11/dist-packages (from torch) (9.1.0.70)\n",
            "Requirement already satisfied: nvidia-cublas-cu12==12.4.5.8 in /usr/local/lib/python3.11/dist-packages (from torch) (12.4.5.8)\n",
            "Requirement already satisfied: nvidia-cufft-cu12==11.2.1.3 in /usr/local/lib/python3.11/dist-packages (from torch) (11.2.1.3)\n",
            "Requirement already satisfied: nvidia-curand-cu12==10.3.5.147 in /usr/local/lib/python3.11/dist-packages (from torch) (10.3.5.147)\n",
            "Requirement already satisfied: nvidia-cusolver-cu12==11.6.1.9 in /usr/local/lib/python3.11/dist-packages (from torch) (11.6.1.9)\n",
            "Requirement already satisfied: nvidia-cusparse-cu12==12.3.1.170 in /usr/local/lib/python3.11/dist-packages (from torch) (12.3.1.170)\n",
            "Requirement already satisfied: nvidia-cusparselt-cu12==0.6.2 in /usr/local/lib/python3.11/dist-packages (from torch) (0.6.2)\n",
            "Requirement already satisfied: nvidia-nccl-cu12==2.21.5 in /usr/local/lib/python3.11/dist-packages (from torch) (2.21.5)\n",
            "Requirement already satisfied: nvidia-nvtx-cu12==12.4.127 in /usr/local/lib/python3.11/dist-packages (from torch) (12.4.127)\n",
            "Requirement already satisfied: nvidia-nvjitlink-cu12==12.4.127 in /usr/local/lib/python3.11/dist-packages (from torch) (12.4.127)\n",
            "Requirement already satisfied: triton==3.2.0 in /usr/local/lib/python3.11/dist-packages (from torch) (3.2.0)\n",
            "Requirement already satisfied: sympy==1.13.1 in /usr/local/lib/python3.11/dist-packages (from torch) (1.13.1)\n",
            "Requirement already satisfied: mpmath<1.4,>=1.1.0 in /usr/local/lib/python3.11/dist-packages (from sympy==1.13.1->torch) (1.3.0)\n",
            "Requirement already satisfied: MarkupSafe>=2.0 in /usr/local/lib/python3.11/dist-packages (from jinja2->torch) (3.0.2)\n"
          ]
        }
      ]
    },
    {
      "cell_type": "code",
      "source": [
        "!pip install torchtext==0.6.0"
      ],
      "metadata": {
        "collapsed": true,
        "id": "hI2uihGNPnjC",
        "colab": {
          "base_uri": "https://localhost:8080/"
        },
        "outputId": "b0396b8c-76f7-4bf2-f79e-5fbe23224c85"
      },
      "execution_count": null,
      "outputs": [
        {
          "output_type": "stream",
          "name": "stdout",
          "text": [
            "Requirement already satisfied: torchtext==0.6.0 in /usr/local/lib/python3.11/dist-packages (0.6.0)\n",
            "Requirement already satisfied: tqdm in /usr/local/lib/python3.11/dist-packages (from torchtext==0.6.0) (4.67.1)\n",
            "Requirement already satisfied: requests in /usr/local/lib/python3.11/dist-packages (from torchtext==0.6.0) (2.32.3)\n",
            "Requirement already satisfied: torch in /usr/local/lib/python3.11/dist-packages (from torchtext==0.6.0) (2.6.0+cu124)\n",
            "Requirement already satisfied: numpy in /usr/local/lib/python3.11/dist-packages (from torchtext==0.6.0) (2.0.2)\n",
            "Requirement already satisfied: six in /usr/local/lib/python3.11/dist-packages (from torchtext==0.6.0) (1.17.0)\n",
            "Requirement already satisfied: sentencepiece in /usr/local/lib/python3.11/dist-packages (from torchtext==0.6.0) (0.2.0)\n",
            "Requirement already satisfied: charset-normalizer<4,>=2 in /usr/local/lib/python3.11/dist-packages (from requests->torchtext==0.6.0) (3.4.2)\n",
            "Requirement already satisfied: idna<4,>=2.5 in /usr/local/lib/python3.11/dist-packages (from requests->torchtext==0.6.0) (3.10)\n",
            "Requirement already satisfied: urllib3<3,>=1.21.1 in /usr/local/lib/python3.11/dist-packages (from requests->torchtext==0.6.0) (2.4.0)\n",
            "Requirement already satisfied: certifi>=2017.4.17 in /usr/local/lib/python3.11/dist-packages (from requests->torchtext==0.6.0) (2025.4.26)\n",
            "Requirement already satisfied: filelock in /usr/local/lib/python3.11/dist-packages (from torch->torchtext==0.6.0) (3.18.0)\n",
            "Requirement already satisfied: typing-extensions>=4.10.0 in /usr/local/lib/python3.11/dist-packages (from torch->torchtext==0.6.0) (4.13.2)\n",
            "Requirement already satisfied: networkx in /usr/local/lib/python3.11/dist-packages (from torch->torchtext==0.6.0) (3.4.2)\n",
            "Requirement already satisfied: jinja2 in /usr/local/lib/python3.11/dist-packages (from torch->torchtext==0.6.0) (3.1.6)\n",
            "Requirement already satisfied: fsspec in /usr/local/lib/python3.11/dist-packages (from torch->torchtext==0.6.0) (2025.3.2)\n",
            "Requirement already satisfied: nvidia-cuda-nvrtc-cu12==12.4.127 in /usr/local/lib/python3.11/dist-packages (from torch->torchtext==0.6.0) (12.4.127)\n",
            "Requirement already satisfied: nvidia-cuda-runtime-cu12==12.4.127 in /usr/local/lib/python3.11/dist-packages (from torch->torchtext==0.6.0) (12.4.127)\n",
            "Requirement already satisfied: nvidia-cuda-cupti-cu12==12.4.127 in /usr/local/lib/python3.11/dist-packages (from torch->torchtext==0.6.0) (12.4.127)\n",
            "Requirement already satisfied: nvidia-cudnn-cu12==9.1.0.70 in /usr/local/lib/python3.11/dist-packages (from torch->torchtext==0.6.0) (9.1.0.70)\n",
            "Requirement already satisfied: nvidia-cublas-cu12==12.4.5.8 in /usr/local/lib/python3.11/dist-packages (from torch->torchtext==0.6.0) (12.4.5.8)\n",
            "Requirement already satisfied: nvidia-cufft-cu12==11.2.1.3 in /usr/local/lib/python3.11/dist-packages (from torch->torchtext==0.6.0) (11.2.1.3)\n",
            "Requirement already satisfied: nvidia-curand-cu12==10.3.5.147 in /usr/local/lib/python3.11/dist-packages (from torch->torchtext==0.6.0) (10.3.5.147)\n",
            "Requirement already satisfied: nvidia-cusolver-cu12==11.6.1.9 in /usr/local/lib/python3.11/dist-packages (from torch->torchtext==0.6.0) (11.6.1.9)\n",
            "Requirement already satisfied: nvidia-cusparse-cu12==12.3.1.170 in /usr/local/lib/python3.11/dist-packages (from torch->torchtext==0.6.0) (12.3.1.170)\n",
            "Requirement already satisfied: nvidia-cusparselt-cu12==0.6.2 in /usr/local/lib/python3.11/dist-packages (from torch->torchtext==0.6.0) (0.6.2)\n",
            "Requirement already satisfied: nvidia-nccl-cu12==2.21.5 in /usr/local/lib/python3.11/dist-packages (from torch->torchtext==0.6.0) (2.21.5)\n",
            "Requirement already satisfied: nvidia-nvtx-cu12==12.4.127 in /usr/local/lib/python3.11/dist-packages (from torch->torchtext==0.6.0) (12.4.127)\n",
            "Requirement already satisfied: nvidia-nvjitlink-cu12==12.4.127 in /usr/local/lib/python3.11/dist-packages (from torch->torchtext==0.6.0) (12.4.127)\n",
            "Requirement already satisfied: triton==3.2.0 in /usr/local/lib/python3.11/dist-packages (from torch->torchtext==0.6.0) (3.2.0)\n",
            "Requirement already satisfied: sympy==1.13.1 in /usr/local/lib/python3.11/dist-packages (from torch->torchtext==0.6.0) (1.13.1)\n",
            "Requirement already satisfied: mpmath<1.4,>=1.1.0 in /usr/local/lib/python3.11/dist-packages (from sympy==1.13.1->torch->torchtext==0.6.0) (1.3.0)\n",
            "Requirement already satisfied: MarkupSafe>=2.0 in /usr/local/lib/python3.11/dist-packages (from jinja2->torch->torchtext==0.6.0) (3.0.2)\n"
          ]
        }
      ]
    },
    {
      "cell_type": "code",
      "source": [
        "!pip install nltk pyvi spacy dill"
      ],
      "metadata": {
        "colab": {
          "base_uri": "https://localhost:8080/"
        },
        "collapsed": true,
        "id": "v7cTHbQbdNZ4",
        "outputId": "aa68357a-2e2a-4279-9fc8-db38f5422338"
      },
      "execution_count": null,
      "outputs": [
        {
          "output_type": "stream",
          "name": "stdout",
          "text": [
            "Requirement already satisfied: nltk in /usr/local/lib/python3.11/dist-packages (3.9.1)\n",
            "Requirement already satisfied: pyvi in /usr/local/lib/python3.11/dist-packages (0.1.1)\n",
            "Requirement already satisfied: spacy in /usr/local/lib/python3.11/dist-packages (3.8.5)\n",
            "Requirement already satisfied: dill in /usr/local/lib/python3.11/dist-packages (0.3.7)\n",
            "Requirement already satisfied: click in /usr/local/lib/python3.11/dist-packages (from nltk) (8.1.8)\n",
            "Requirement already satisfied: joblib in /usr/local/lib/python3.11/dist-packages (from nltk) (1.5.0)\n",
            "Requirement already satisfied: regex>=2021.8.3 in /usr/local/lib/python3.11/dist-packages (from nltk) (2024.11.6)\n",
            "Requirement already satisfied: tqdm in /usr/local/lib/python3.11/dist-packages (from nltk) (4.67.1)\n",
            "Requirement already satisfied: scikit-learn in /usr/local/lib/python3.11/dist-packages (from pyvi) (1.6.1)\n",
            "Requirement already satisfied: sklearn-crfsuite in /usr/local/lib/python3.11/dist-packages (from pyvi) (0.5.0)\n",
            "Requirement already satisfied: spacy-legacy<3.1.0,>=3.0.11 in /usr/local/lib/python3.11/dist-packages (from spacy) (3.0.12)\n",
            "Requirement already satisfied: spacy-loggers<2.0.0,>=1.0.0 in /usr/local/lib/python3.11/dist-packages (from spacy) (1.0.5)\n",
            "Requirement already satisfied: murmurhash<1.1.0,>=0.28.0 in /usr/local/lib/python3.11/dist-packages (from spacy) (1.0.12)\n",
            "Requirement already satisfied: cymem<2.1.0,>=2.0.2 in /usr/local/lib/python3.11/dist-packages (from spacy) (2.0.11)\n",
            "Requirement already satisfied: preshed<3.1.0,>=3.0.2 in /usr/local/lib/python3.11/dist-packages (from spacy) (3.0.9)\n",
            "Requirement already satisfied: thinc<8.4.0,>=8.3.4 in /usr/local/lib/python3.11/dist-packages (from spacy) (8.3.6)\n",
            "Requirement already satisfied: wasabi<1.2.0,>=0.9.1 in /usr/local/lib/python3.11/dist-packages (from spacy) (1.1.3)\n",
            "Requirement already satisfied: srsly<3.0.0,>=2.4.3 in /usr/local/lib/python3.11/dist-packages (from spacy) (2.5.1)\n",
            "Requirement already satisfied: catalogue<2.1.0,>=2.0.6 in /usr/local/lib/python3.11/dist-packages (from spacy) (2.0.10)\n",
            "Requirement already satisfied: weasel<0.5.0,>=0.1.0 in /usr/local/lib/python3.11/dist-packages (from spacy) (0.4.1)\n",
            "Requirement already satisfied: typer<1.0.0,>=0.3.0 in /usr/local/lib/python3.11/dist-packages (from spacy) (0.15.3)\n",
            "Requirement already satisfied: numpy>=1.19.0 in /usr/local/lib/python3.11/dist-packages (from spacy) (2.0.2)\n",
            "Requirement already satisfied: requests<3.0.0,>=2.13.0 in /usr/local/lib/python3.11/dist-packages (from spacy) (2.32.3)\n",
            "Requirement already satisfied: pydantic!=1.8,!=1.8.1,<3.0.0,>=1.7.4 in /usr/local/lib/python3.11/dist-packages (from spacy) (2.11.4)\n",
            "Requirement already satisfied: jinja2 in /usr/local/lib/python3.11/dist-packages (from spacy) (3.1.6)\n",
            "Requirement already satisfied: setuptools in /usr/local/lib/python3.11/dist-packages (from spacy) (75.2.0)\n",
            "Requirement already satisfied: packaging>=20.0 in /usr/local/lib/python3.11/dist-packages (from spacy) (24.2)\n",
            "Requirement already satisfied: langcodes<4.0.0,>=3.2.0 in /usr/local/lib/python3.11/dist-packages (from spacy) (3.5.0)\n",
            "Requirement already satisfied: language-data>=1.2 in /usr/local/lib/python3.11/dist-packages (from langcodes<4.0.0,>=3.2.0->spacy) (1.3.0)\n",
            "Requirement already satisfied: annotated-types>=0.6.0 in /usr/local/lib/python3.11/dist-packages (from pydantic!=1.8,!=1.8.1,<3.0.0,>=1.7.4->spacy) (0.7.0)\n",
            "Requirement already satisfied: pydantic-core==2.33.2 in /usr/local/lib/python3.11/dist-packages (from pydantic!=1.8,!=1.8.1,<3.0.0,>=1.7.4->spacy) (2.33.2)\n",
            "Requirement already satisfied: typing-extensions>=4.12.2 in /usr/local/lib/python3.11/dist-packages (from pydantic!=1.8,!=1.8.1,<3.0.0,>=1.7.4->spacy) (4.13.2)\n",
            "Requirement already satisfied: typing-inspection>=0.4.0 in /usr/local/lib/python3.11/dist-packages (from pydantic!=1.8,!=1.8.1,<3.0.0,>=1.7.4->spacy) (0.4.0)\n",
            "Requirement already satisfied: charset-normalizer<4,>=2 in /usr/local/lib/python3.11/dist-packages (from requests<3.0.0,>=2.13.0->spacy) (3.4.2)\n",
            "Requirement already satisfied: idna<4,>=2.5 in /usr/local/lib/python3.11/dist-packages (from requests<3.0.0,>=2.13.0->spacy) (3.10)\n",
            "Requirement already satisfied: urllib3<3,>=1.21.1 in /usr/local/lib/python3.11/dist-packages (from requests<3.0.0,>=2.13.0->spacy) (2.4.0)\n",
            "Requirement already satisfied: certifi>=2017.4.17 in /usr/local/lib/python3.11/dist-packages (from requests<3.0.0,>=2.13.0->spacy) (2025.4.26)\n",
            "Requirement already satisfied: blis<1.4.0,>=1.3.0 in /usr/local/lib/python3.11/dist-packages (from thinc<8.4.0,>=8.3.4->spacy) (1.3.0)\n",
            "Requirement already satisfied: confection<1.0.0,>=0.0.1 in /usr/local/lib/python3.11/dist-packages (from thinc<8.4.0,>=8.3.4->spacy) (0.1.5)\n",
            "Requirement already satisfied: shellingham>=1.3.0 in /usr/local/lib/python3.11/dist-packages (from typer<1.0.0,>=0.3.0->spacy) (1.5.4)\n",
            "Requirement already satisfied: rich>=10.11.0 in /usr/local/lib/python3.11/dist-packages (from typer<1.0.0,>=0.3.0->spacy) (13.9.4)\n",
            "Requirement already satisfied: cloudpathlib<1.0.0,>=0.7.0 in /usr/local/lib/python3.11/dist-packages (from weasel<0.5.0,>=0.1.0->spacy) (0.21.0)\n",
            "Requirement already satisfied: smart-open<8.0.0,>=5.2.1 in /usr/local/lib/python3.11/dist-packages (from weasel<0.5.0,>=0.1.0->spacy) (7.1.0)\n",
            "Requirement already satisfied: MarkupSafe>=2.0 in /usr/local/lib/python3.11/dist-packages (from jinja2->spacy) (3.0.2)\n",
            "Requirement already satisfied: scipy>=1.6.0 in /usr/local/lib/python3.11/dist-packages (from scikit-learn->pyvi) (1.15.3)\n",
            "Requirement already satisfied: threadpoolctl>=3.1.0 in /usr/local/lib/python3.11/dist-packages (from scikit-learn->pyvi) (3.6.0)\n",
            "Requirement already satisfied: python-crfsuite>=0.9.7 in /usr/local/lib/python3.11/dist-packages (from sklearn-crfsuite->pyvi) (0.9.11)\n",
            "Requirement already satisfied: tabulate>=0.4.2 in /usr/local/lib/python3.11/dist-packages (from sklearn-crfsuite->pyvi) (0.9.0)\n",
            "Requirement already satisfied: marisa-trie>=1.1.0 in /usr/local/lib/python3.11/dist-packages (from language-data>=1.2->langcodes<4.0.0,>=3.2.0->spacy) (1.2.1)\n",
            "Requirement already satisfied: markdown-it-py>=2.2.0 in /usr/local/lib/python3.11/dist-packages (from rich>=10.11.0->typer<1.0.0,>=0.3.0->spacy) (3.0.0)\n",
            "Requirement already satisfied: pygments<3.0.0,>=2.13.0 in /usr/local/lib/python3.11/dist-packages (from rich>=10.11.0->typer<1.0.0,>=0.3.0->spacy) (2.19.1)\n",
            "Requirement already satisfied: wrapt in /usr/local/lib/python3.11/dist-packages (from smart-open<8.0.0,>=5.2.1->weasel<0.5.0,>=0.1.0->spacy) (1.17.2)\n",
            "Requirement already satisfied: mdurl~=0.1 in /usr/local/lib/python3.11/dist-packages (from markdown-it-py>=2.2.0->rich>=10.11.0->typer<1.0.0,>=0.3.0->spacy) (0.1.2)\n"
          ]
        }
      ]
    },
    {
      "cell_type": "code",
      "source": [
        "!pip install PyYAML==6.0.1"
      ],
      "metadata": {
        "colab": {
          "base_uri": "https://localhost:8080/"
        },
        "id": "6w2p_qrudORG",
        "outputId": "098c52d9-eefb-4f28-84e8-4155fa22baed"
      },
      "execution_count": null,
      "outputs": [
        {
          "output_type": "stream",
          "name": "stdout",
          "text": [
            "Requirement already satisfied: PyYAML==6.0.1 in /usr/local/lib/python3.11/dist-packages (6.0.1)\n"
          ]
        }
      ]
    },
    {
      "cell_type": "markdown",
      "source": [
        "**Chọn tokenizer**"
      ],
      "metadata": {
        "id": "zidkgWvtQ-9i"
      }
    },
    {
      "cell_type": "code",
      "source": [
        "import sentencepiece as spm\n",
        "!pip list | grep sentencepiece"
      ],
      "metadata": {
        "colab": {
          "base_uri": "https://localhost:8080/"
        },
        "id": "07-DntocQYhz",
        "outputId": "7cc13ae8-916e-498a-ee1d-111547e93b79"
      },
      "execution_count": null,
      "outputs": [
        {
          "output_type": "stream",
          "name": "stdout",
          "text": [
            "sentencepiece                         0.2.0\n"
          ]
        }
      ]
    },
    {
      "cell_type": "markdown",
      "source": [
        "**Train Tokenize**"
      ],
      "metadata": {
        "id": "z7ZAsWzHSERX"
      }
    },
    {
      "cell_type": "code",
      "source": [
        "import sentencepiece as spm\n",
        "\n",
        "spm.SentencePieceTrainer.train(\n",
        "    input=\"/content/KC4.0_MultilingualNMT/data/vlsp_vi_lo/train.vi,/content/KC4.0_MultilingualNMT/data/vlsp_vi_lo/train.lo\",\n",
        "    model_prefix=\"vi_lo_bpe\",\n",
        "    vocab_size=8000,\n",
        "    character_coverage=1.0,\n",
        "    model_type=\"bpe\"\n",
        ")"
      ],
      "metadata": {
        "id": "ozw1syXfQ8v4"
      },
      "execution_count": null,
      "outputs": []
    },
    {
      "cell_type": "markdown",
      "source": [
        "nhét vi_lo_bpe.model và .vocab vào repo cho tiện"
      ],
      "metadata": {
        "id": "BmBawuBiSgOk"
      }
    },
    {
      "cell_type": "code",
      "source": [
        "# # !find /content/drive/MyDrive -name \"vi_lo_bpe.*\"\n",
        "# !ls -lh /content/vi_lo_bpe.*\n"
      ],
      "metadata": {
        "id": "cL3-hyCsSxyZ",
        "colab": {
          "base_uri": "https://localhost:8080/"
        },
        "outputId": "2cf22a9f-bc00-47c3-afb4-e50420328f21"
      },
      "execution_count": null,
      "outputs": [
        {
          "output_type": "stream",
          "name": "stdout",
          "text": [
            "-rw-r--r-- 1 root root 370K May 14 11:27 /content/vi_lo_bpe.model\n",
            "-rw-r--r-- 1 root root 121K May 14 11:27 /content/vi_lo_bpe.vocab\n"
          ]
        }
      ]
    },
    {
      "cell_type": "code",
      "source": [
        "# !mv /content/vi_lo_bpe.* /content/KC4.0_MultilingualNMT/"
      ],
      "metadata": {
        "id": "KQmlLatuSej9"
      },
      "execution_count": null,
      "outputs": []
    },
    {
      "cell_type": "markdown",
      "source": [
        "# **Thực hiện tokenize**"
      ],
      "metadata": {
        "id": "O6ehiqycTh-S"
      }
    },
    {
      "cell_type": "code",
      "source": [
        "# import sentencepiece as spm\n",
        "\n",
        "# sp = spm.SentencePieceProcessor()\n",
        "# sp.load(\"/content/KC4.0_MultilingualNMT/vi_lo_bpe.model\")"
      ],
      "metadata": {
        "colab": {
          "base_uri": "https://localhost:8080/"
        },
        "id": "hRryNrGlTebL",
        "outputId": "3fdcad32-b57a-4f70-9c31-aac3547967d1"
      },
      "execution_count": null,
      "outputs": [
        {
          "output_type": "execute_result",
          "data": {
            "text/plain": [
              "True"
            ]
          },
          "metadata": {},
          "execution_count": 23
        }
      ]
    },
    {
      "cell_type": "code",
      "source": [
        "# def tokenize_file(input_path, output_path):\n",
        "#     with open(input_path, 'r', encoding='utf-8') as fin, open(output_path, 'w', encoding='utf-8') as fout:\n",
        "#         for line in fin:\n",
        "#             tokens = sp.encode(line.strip(), out_type=str)\n",
        "#             fout.write(' '.join(tokens) + '\\n')"
      ],
      "metadata": {
        "id": "MZXFt7tzTr8z"
      },
      "execution_count": null,
      "outputs": []
    },
    {
      "cell_type": "markdown",
      "source": [],
      "metadata": {
        "id": "m2reHpJFht9m"
      }
    },
    {
      "cell_type": "code",
      "source": [
        "# # Train\n",
        "# tokenize_file(\"/content/KC4.0_MultilingualNMT/data/vlsp_vi_lo/train.vi\",  \"/content/KC4.0_MultilingualNMT/data/vlsp_vi_lo/train_tok.vi\")\n",
        "# tokenize_file(\"/content/KC4.0_MultilingualNMT/data/vlsp_vi_lo/train.lo\",  \"/content/KC4.0_MultilingualNMT/data/vlsp_vi_lo/train_tok.lo\")\n",
        "\n",
        "# # Validation\n",
        "# tokenize_file(\"/content/KC4.0_MultilingualNMT/data/vlsp_vi_lo/valid.vi\", \"/content/KC4.0_MultilingualNMT/data/vlsp_vi_lo/valid_tok.vi\")\n",
        "# tokenize_file(\"/content/KC4.0_MultilingualNMT/data/vlsp_vi_lo/valid.lo\", \"/content/KC4.0_MultilingualNMT/data/vlsp_vi_lo/valid_tok.lo\")"
      ],
      "metadata": {
        "id": "Z3H3jQjpTwM9"
      },
      "execution_count": null,
      "outputs": []
    },
    {
      "cell_type": "markdown",
      "source": [
        "Ghi đè lên dữ liệu cũ để bắt đầu training"
      ],
      "metadata": {
        "id": "S5yz9f4jT56R"
      }
    },
    {
      "cell_type": "code",
      "source": [
        "# !mv /content/KC4.0_MultilingualNMT/data/vlsp_vi_lo/train_tok.vi /content/KC4.0_MultilingualNMT/data/vlsp_vi_lo/train.vi\n",
        "# !mv /content/KC4.0_MultilingualNMT/data/vlsp_vi_lo/train_tok.lo /content/KC4.0_MultilingualNMT/data/vlsp_vi_lo/train.lo\n",
        "\n",
        "# !mv /content/KC4.0_MultilingualNMT/data/vlsp_vi_lo/valid_tok.vi /content/KC4.0_MultilingualNMT/data/vlsp_vi_lo/valid.vi\n",
        "# !mv /content/KC4.0_MultilingualNMT/data/vlsp_vi_lo/valid_tok.lo /content/KC4.0_MultilingualNMT/data/vlsp_vi_lo/valid.lo"
      ],
      "metadata": {
        "id": "uZbtWUx4T-D6"
      },
      "execution_count": null,
      "outputs": []
    },
    {
      "cell_type": "code",
      "source": [],
      "metadata": {
        "id": "ngTwWoD0kDsk"
      },
      "execution_count": null,
      "outputs": []
    },
    {
      "cell_type": "markdown",
      "source": [
        "# **Training**"
      ],
      "metadata": {
        "id": "MhV2hy8ZUB5t"
      }
    },
    {
      "cell_type": "markdown",
      "source": [
        "Đang để YaML bản cao hơn requirements nên có cái này"
      ],
      "metadata": {
        "id": "Hk5xxzUBW57e"
      }
    },
    {
      "cell_type": "code",
      "source": [
        "import yaml\n",
        "\n",
        "# Monkey patch: thay thế yaml.load bằng phiên bản an toàn có Loader\n",
        "def safe_yaml_load_patch():\n",
        "    orig_load = yaml.load\n",
        "    def safe_load_with_loader(*args, **kwargs):\n",
        "        if 'Loader' not in kwargs:\n",
        "            kwargs['Loader'] = yaml.SafeLoader\n",
        "        return orig_load(*args, **kwargs)\n",
        "    yaml.load = safe_load_with_loader\n",
        "\n",
        "safe_yaml_load_patch()\n"
      ],
      "metadata": {
        "id": "fxyl0B6LW5WN"
      },
      "execution_count": null,
      "outputs": []
    },
    {
      "cell_type": "code",
      "source": [
        "!ls -lh /content/KC4.0_MultilingualNMT/data/vlsp_vi_lo/\n",
        "!head -n 5 /content/KC4.0_MultilingualNMT/data/vlsp_vi_lo/train.vi\n",
        "!head -n 5 /content/KC4.0_MultilingualNMT/data/vlsp_vi_lo/train.lo"
      ],
      "metadata": {
        "collapsed": true,
        "id": "5R7qVlvTXv9W",
        "colab": {
          "base_uri": "https://localhost:8080/"
        },
        "outputId": "d42af51d-ea00-4041-f194-e48642b52a21"
      },
      "execution_count": null,
      "outputs": [
        {
          "output_type": "stream",
          "name": "stdout",
          "text": [
            "total 49M\n",
            "-rw------- 1 root root  28M May 14 15:38 train.lo\n",
            "-rw------- 1 root root  21M May 14 15:38 train.vi\n",
            "-rw------- 1 root root 511K May 14 15:38 valid.lo\n",
            "-rw------- 1 root root 381K May 14 15:38 valid.vi\n",
            "▁Nếu ▁anh ▁chị ▁cảm ▁thấy ▁e ▁ngại ▁khi ▁giới ▁thiệu ▁về ▁tin ▁mừng , ▁hãy ▁tập ▁bắt ▁chuyện ▁mà ▁không ▁nhất ▁thiết ▁làm ▁chứng .\n",
            "▁H ẳ n ▁nhiều ▁người ▁thấp ▁kém ▁e ▁sợ ▁và ▁tránh ▁mặt ▁những ▁nhà ▁lãnh ▁đạo ▁ấy , ▁thay ▁vì ▁xin ▁họ ▁giúp ▁đỡ ▁hoặc ▁chỉ ▁dẫn .\n",
            "▁21 ▁B ấy ▁giờ , ▁khi ▁ho àng ▁hậu ▁trông ▁thấy ▁vẻ ▁kinh ▁hãi ▁của ▁các ▁tôi ▁t ớ , ▁bà ▁cũng ▁cảm ▁thấy ▁sợ ▁hãi ▁vô ▁cùng , ▁e ▁rằng ▁điều ▁dữ ▁sẽ ▁đến ▁với ▁bà .\n",
            "▁Q uyết ▁định ▁để ▁thay ▁đổi ▁thuộc ▁vào ▁chính ▁các ▁anh ▁chị ▁em , ▁và ▁chỉ ▁một ▁mình ▁các ▁anh ▁chị ▁em ▁mà ▁thôi .\n",
            "▁Những ▁lựa ▁chọn ▁của ▁các ▁em ▁ngay ▁trước ▁mắt ▁là ▁quan ▁trọng ▁vĩnh ▁viễn .\n",
            "▁ຖ້າ ▁ເຈົ້າ ▁ຮູ້ສຶກ ▁ຢ້ານ ▁ທີ່ ▁ຈະ ▁ປະກາດ ▁ຂໍ ▁ໃຫ້ ▁ຊ ້ອມ ▁ເວົ້າ ▁ໃນ ▁ແບບ ▁ທີ່ ▁ຍັງ ▁ບໍ່ ▁ມີ ▁ເປົ້າ ▁ຫມາຍ ▁ປະກາດ .\n",
            "▁ຄົນ ▁ຕ ໍ່າ ▁ຕ ້ອຍ ▁ຈໍານວນ ▁ຫຼາຍ ▁ຄົງ ▁ຈະ ▁ຫຼ ົບ ▁ຫຼ ີກ ▁ຜູ້ ▁ນໍາ ▁ດັ່ງ ▁ກ່າວ ▁ແທນ ▁ທີ່ ▁ຈະ ▁ຂໍ ▁ຄວາມ ▁ຊ່ວຍ ເຫຼືອ ▁ຫຼື ▁ການ ▁ຊີ້ ▁ນໍາ ▁ຈາກ ▁ເຂົາ ▁ເຈົ້າ .\n",
            "▁21 ▁ບັດ ▁ນີ້ ເມື່ອ ລາ ຊ ິນ ີ ▁ເຫັນ ▁ຄວາມ ▁ຢ້ານ ▁ກົວ ▁ຂອງ ▁ພວກ ▁ຂ້າ ▁ໃຊ້ ▁ນາງ ▁ກໍ ▁ເລີ່ມ ▁ມີ ▁ຄວາມ ▁ຢ້ານ ▁ກົວ ▁ຫລາຍ ▁ຂຶ້ນ , ▁ຢ້ານ ▁ວ່າ ▁ສິ່ງ ▁ບໍ່ ▁ດີ ▁ຈະ ▁ເກີດ ▁ກັບ ▁ນາງ .\n",
            "▁ການ ▁ຕັດສິນ ▁ໃຈ ▁ທີ່ ▁ຈະ ▁ປ່ຽນ ແປງ ▁ກໍ ▁ເປັນ ▁ຂອງ ▁ທ່ານ ▁, ▁ແລະ ▁ເປັນ ▁ຂອງ ▁ທ່ານ ▁ຄົນ ▁ດຽວ .\n",
            "▁ການ ▁ເລືອກ ▁ທີ່ ▁ພວກ ▁ເຈົ້າ ▁ເຮັດ ▁ໃນ ▁ເວລາ ▁ນີ້ ▁ມີ ▁ຄວາມ ▁ສໍາຄັນ ▁ຕະຫລອດ ▁ການ .\n"
          ]
        }
      ]
    },
    {
      "cell_type": "code",
      "source": [
        "%cd /content/KC4.0_MultilingualNMT\n",
        "\n",
        "!mkdir -p /content/drive/MyDrive/KC4_checkpoint/vi_lo.model\n",
        "\n",
        "!python -m bin.main train \\\n",
        "  --model Transformer \\\n",
        "  --config config/bilingual_prototype.yml \\\n",
        "  --model_dir /content/drive/MyDrive/KC4_checkpoint/vi_lo.model\n"
      ],
      "metadata": {
        "id": "Wfz-abtqUFwA",
        "colab": {
          "base_uri": "https://localhost:8080/"
        },
        "outputId": "bed220e2-6bf0-4a2d-f67c-f0ce989d53b6"
      },
      "execution_count": null,
      "outputs": [
        {
          "output_type": "stream",
          "name": "stdout",
          "text": [
            "/content/KC4.0_MultilingualNMT\n",
            "<frozen runpy>:128: RuntimeWarning: 'bin.main' found in sys.modules after import of package 'bin', but prior to execution of 'bin.main'; this may result in unpredictable behaviour\n",
            "Config specified, copying all to model dir\n",
            "Loaded path is a list of locations. Load in the order received, overriding and merging as needed.\n",
            "Building vocab from received data.\n",
            "No checkpoint found, start from beginning.\n",
            "[Wed, 14 May 2025 15:41:47 INFO] .en * src vocab size = 14591\n",
            "[Wed, 14 May 2025 15:41:47 INFO] .vi * tgt vocab size = 6839\n",
            "[Wed, 14 May 2025 15:41:47 INFO] Building model...\n",
            "Zero checkpoint detected, reinitialize the model\n",
            "[Wed, 14 May 2025 15:41:52 INFO] Transformer(\n",
            "  (encoder): Encoder(\n",
            "    (embed): Embedding(14591, 512)\n",
            "    (pe): PositionalEncoder(\n",
            "      (dropout): Dropout(p=0.1, inplace=False)\n",
            "    )\n",
            "    (layers): ModuleList(\n",
            "      (0-5): 6 x EncoderLayer(\n",
            "        (norm_1): Norm()\n",
            "        (norm_2): Norm()\n",
            "        (attn): MultiHeadAttention(\n",
            "          (q_linear): Linear(in_features=512, out_features=512, bias=True)\n",
            "          (k_linear): Linear(in_features=512, out_features=512, bias=True)\n",
            "          (v_linear): Linear(in_features=512, out_features=512, bias=True)\n",
            "          (dropout): Dropout(p=0.1, inplace=False)\n",
            "          (out): Linear(in_features=512, out_features=512, bias=True)\n",
            "        )\n",
            "        (ff): FeedForward(\n",
            "          (linear_1): Linear(in_features=512, out_features=4096, bias=True)\n",
            "          (dropout): Dropout(p=0.1, inplace=False)\n",
            "          (linear_2): Linear(in_features=2048, out_features=512, bias=True)\n",
            "        )\n",
            "        (dropout_1): Dropout(p=0.1, inplace=False)\n",
            "        (dropout_2): Dropout(p=0.1, inplace=False)\n",
            "      )\n",
            "    )\n",
            "    (norm): Norm()\n",
            "  )\n",
            "  (decoder): Decoder(\n",
            "    (embed): Embedding(6839, 512)\n",
            "    (pe): PositionalEncoder(\n",
            "      (dropout): Dropout(p=0.1, inplace=False)\n",
            "    )\n",
            "    (layers): ModuleList(\n",
            "      (0-5): 6 x DecoderLayer(\n",
            "        (norm_1): Norm()\n",
            "        (norm_2): Norm()\n",
            "        (norm_3): Norm()\n",
            "        (dropout_1): Dropout(p=0.1, inplace=False)\n",
            "        (dropout_2): Dropout(p=0.1, inplace=False)\n",
            "        (dropout_3): Dropout(p=0.1, inplace=False)\n",
            "        (attn_1): MultiHeadAttention(\n",
            "          (q_linear): Linear(in_features=512, out_features=512, bias=True)\n",
            "          (k_linear): Linear(in_features=512, out_features=512, bias=True)\n",
            "          (v_linear): Linear(in_features=512, out_features=512, bias=True)\n",
            "          (dropout): Dropout(p=0.1, inplace=False)\n",
            "          (out): Linear(in_features=512, out_features=512, bias=True)\n",
            "        )\n",
            "        (attn_2): MultiHeadAttention(\n",
            "          (q_linear): Linear(in_features=512, out_features=512, bias=True)\n",
            "          (k_linear): Linear(in_features=512, out_features=512, bias=True)\n",
            "          (v_linear): Linear(in_features=512, out_features=512, bias=True)\n",
            "          (dropout): Dropout(p=0.1, inplace=False)\n",
            "          (out): Linear(in_features=512, out_features=512, bias=True)\n",
            "        )\n",
            "        (ff): FeedForward(\n",
            "          (linear_1): Linear(in_features=512, out_features=4096, bias=True)\n",
            "          (dropout): Dropout(p=0.1, inplace=False)\n",
            "          (linear_2): Linear(in_features=2048, out_features=512, bias=True)\n",
            "        )\n",
            "      )\n",
            "    )\n",
            "    (norm): Norm()\n",
            "  )\n",
            "  (out): Linear(in_features=512, out_features=6839, bias=True)\n",
            ")\n",
            "[Wed, 14 May 2025 15:41:52 INFO] Encoder: 32689664\n",
            "[Wed, 14 May 2025 15:41:52 INFO] Decoder: 35030528\n",
            "[Wed, 14 May 2025 15:41:52 INFO] * Number of parameters: 67720192\n",
            "[Wed, 14 May 2025 15:41:52 INFO] Starting training on cuda\n",
            "[Wed, 14 May 2025 15:43:13 INFO] epoch: 000 - iter: 00200 - train loss: 3.6601 - time elapsed/per batch: 80.6794 0.4034\n",
            "[Wed, 14 May 2025 15:44:38 INFO] epoch: 000 - iter: 00400 - train loss: 3.0694 - time elapsed/per batch: 84.9969 0.4250\n",
            "[Wed, 14 May 2025 15:46:04 INFO] epoch: 000 - iter: 00600 - train loss: 2.8916 - time elapsed/per batch: 85.5756 0.4279\n",
            "[Wed, 14 May 2025 15:47:29 INFO] epoch: 000 - iter: 00800 - train loss: 2.7662 - time elapsed/per batch: 85.2493 0.4262\n",
            "[Wed, 14 May 2025 15:48:54 INFO] epoch: 000 - iter: 01000 - train loss: 2.7032 - time elapsed/per batch: 85.0416 0.4252\n",
            "[Wed, 14 May 2025 15:50:20 INFO] epoch: 000 - iter: 01200 - train loss: 2.5983 - time elapsed/per batch: 85.5384 0.4277\n",
            "[Wed, 14 May 2025 15:51:45 INFO] epoch: 000 - iter: 01400 - train loss: 2.5210 - time elapsed/per batch: 85.0073 0.4250\n",
            "[Wed, 14 May 2025 15:53:09 INFO] epoch: 000 - iter: 01600 - train loss: 2.4465 - time elapsed/per batch: 84.9182 0.4246\n",
            "[Wed, 14 May 2025 15:54:35 INFO] epoch: 000 - iter: 01800 - train loss: 2.3742 - time elapsed/per batch: 85.2687 0.4263\n",
            "[Wed, 14 May 2025 15:58:02 INFO] epoch: 000 - iter: 01909 - valid loss: 4.7586 - bleu score: 0.0276 - full evaluation time: 160.2039\n",
            "[Wed, 14 May 2025 15:59:27 INFO] epoch: 001 - iter: 00200 - train loss: 2.3047 - time elapsed/per batch: 84.7898 0.4239\n",
            "[Wed, 14 May 2025 16:00:51 INFO] epoch: 001 - iter: 00400 - train loss: 2.2499 - time elapsed/per batch: 83.9487 0.4197\n",
            "[Wed, 14 May 2025 16:02:16 INFO] epoch: 001 - iter: 00600 - train loss: 2.2057 - time elapsed/per batch: 84.8319 0.4242\n",
            "[Wed, 14 May 2025 16:03:42 INFO] epoch: 001 - iter: 00800 - train loss: 2.1574 - time elapsed/per batch: 85.7204 0.4286\n",
            "[Wed, 14 May 2025 16:05:07 INFO] epoch: 001 - iter: 01000 - train loss: 2.1033 - time elapsed/per batch: 85.5910 0.4280\n",
            "[Wed, 14 May 2025 16:06:32 INFO] epoch: 001 - iter: 01200 - train loss: 2.0724 - time elapsed/per batch: 85.1485 0.4257\n",
            "[Wed, 14 May 2025 16:07:58 INFO] epoch: 001 - iter: 01400 - train loss: 2.0115 - time elapsed/per batch: 85.5762 0.4279\n",
            "[Wed, 14 May 2025 16:09:23 INFO] epoch: 001 - iter: 01600 - train loss: 1.9966 - time elapsed/per batch: 85.4478 0.4272\n",
            "[Wed, 14 May 2025 16:10:48 INFO] epoch: 001 - iter: 01800 - train loss: 1.9129 - time elapsed/per batch: 84.2572 0.4213\n",
            "[Wed, 14 May 2025 16:16:24 INFO] epoch: 001 - iter: 01909 - valid loss: 3.8660 - bleu score: 0.0962 - full evaluation time: 289.9574\n",
            "[Wed, 14 May 2025 16:17:50 INFO] epoch: 002 - iter: 00200 - train loss: 1.8348 - time elapsed/per batch: 85.9445 0.4297\n",
            "[Wed, 14 May 2025 16:19:15 INFO] epoch: 002 - iter: 00400 - train loss: 1.8358 - time elapsed/per batch: 85.1764 0.4259\n",
            "[Wed, 14 May 2025 16:20:41 INFO] epoch: 002 - iter: 00600 - train loss: 1.7826 - time elapsed/per batch: 85.9683 0.4298\n",
            "[Wed, 14 May 2025 16:22:06 INFO] epoch: 002 - iter: 00800 - train loss: 1.7665 - time elapsed/per batch: 85.2457 0.4262\n",
            "[Wed, 14 May 2025 16:23:31 INFO] epoch: 002 - iter: 01000 - train loss: 1.7448 - time elapsed/per batch: 85.2514 0.4263\n",
            "[Wed, 14 May 2025 16:24:57 INFO] epoch: 002 - iter: 01200 - train loss: 1.7136 - time elapsed/per batch: 85.3509 0.4268\n",
            "[Wed, 14 May 2025 16:26:23 INFO] epoch: 002 - iter: 01400 - train loss: 1.6774 - time elapsed/per batch: 85.7943 0.4290\n",
            "[Wed, 14 May 2025 16:27:48 INFO] epoch: 002 - iter: 01600 - train loss: 1.6739 - time elapsed/per batch: 85.8679 0.4293\n",
            "[Wed, 14 May 2025 16:29:14 INFO] epoch: 002 - iter: 01800 - train loss: 1.6373 - time elapsed/per batch: 85.7024 0.4285\n",
            "[Wed, 14 May 2025 16:33:58 INFO] epoch: 002 - iter: 01909 - valid loss: 3.3489 - bleu score: 0.1856 - full evaluation time: 236.5364\n",
            "[Wed, 14 May 2025 16:35:24 INFO] epoch: 003 - iter: 00200 - train loss: 1.5493 - time elapsed/per batch: 86.3463 0.4317\n",
            "[Wed, 14 May 2025 16:36:49 INFO] epoch: 003 - iter: 00400 - train loss: 1.5516 - time elapsed/per batch: 85.4622 0.4273\n",
            "[Wed, 14 May 2025 16:38:15 INFO] epoch: 003 - iter: 00600 - train loss: 1.5344 - time elapsed/per batch: 85.4399 0.4272\n",
            "[Wed, 14 May 2025 16:39:41 INFO] epoch: 003 - iter: 00800 - train loss: 1.5295 - time elapsed/per batch: 85.9935 0.4300\n",
            "[Wed, 14 May 2025 16:41:07 INFO] epoch: 003 - iter: 01000 - train loss: 1.5329 - time elapsed/per batch: 85.8139 0.4291\n",
            "[Wed, 14 May 2025 16:42:32 INFO] epoch: 003 - iter: 01200 - train loss: 1.5208 - time elapsed/per batch: 85.8690 0.4293\n",
            "[Wed, 14 May 2025 16:43:59 INFO] epoch: 003 - iter: 01400 - train loss: 1.5174 - time elapsed/per batch: 86.0232 0.4301\n",
            "[Wed, 14 May 2025 16:45:24 INFO] epoch: 003 - iter: 01600 - train loss: 1.5054 - time elapsed/per batch: 85.5640 0.4278\n",
            "[Wed, 14 May 2025 16:46:49 INFO] epoch: 003 - iter: 01800 - train loss: 1.4994 - time elapsed/per batch: 85.1692 0.4258\n",
            "[Wed, 14 May 2025 16:51:49 INFO] epoch: 003 - iter: 01909 - valid loss: 3.1285 - bleu score: 0.2182 - full evaluation time: 252.6907\n",
            "[Wed, 14 May 2025 16:53:15 INFO] epoch: 004 - iter: 00200 - train loss: 1.4302 - time elapsed/per batch: 86.2729 0.4314\n",
            "[Wed, 14 May 2025 16:54:40 INFO] epoch: 004 - iter: 00400 - train loss: 1.4211 - time elapsed/per batch: 85.4680 0.4273\n",
            "[Wed, 14 May 2025 16:56:06 INFO] epoch: 004 - iter: 00600 - train loss: 1.4340 - time elapsed/per batch: 85.7155 0.4286\n",
            "[Wed, 14 May 2025 16:57:32 INFO] epoch: 004 - iter: 00800 - train loss: 1.4262 - time elapsed/per batch: 85.7203 0.4286\n",
            "[Wed, 14 May 2025 16:58:57 INFO] epoch: 004 - iter: 01000 - train loss: 1.4137 - time elapsed/per batch: 85.2576 0.4263\n",
            "[Wed, 14 May 2025 17:00:23 INFO] epoch: 004 - iter: 01200 - train loss: 1.4334 - time elapsed/per batch: 85.5224 0.4276\n",
            "[Wed, 14 May 2025 17:01:48 INFO] epoch: 004 - iter: 01400 - train loss: 1.4155 - time elapsed/per batch: 85.7498 0.4287\n",
            "[Wed, 14 May 2025 17:03:13 INFO] epoch: 004 - iter: 01600 - train loss: 1.4135 - time elapsed/per batch: 85.0514 0.4253\n",
            "[Wed, 14 May 2025 17:04:38 INFO] epoch: 004 - iter: 01800 - train loss: 1.4027 - time elapsed/per batch: 84.9624 0.4248\n",
            "[Wed, 14 May 2025 17:08:50 INFO] epoch: 004 - iter: 01909 - valid loss: 3.0303 - bleu score: 0.2364 - full evaluation time: 205.0100\n",
            "[Wed, 14 May 2025 17:10:18 INFO] epoch: 005 - iter: 00200 - train loss: 1.3505 - time elapsed/per batch: 87.3980 0.4370\n",
            "[Wed, 14 May 2025 17:11:43 INFO] epoch: 005 - iter: 00400 - train loss: 1.3485 - time elapsed/per batch: 85.8516 0.4293\n",
            "[Wed, 14 May 2025 17:13:09 INFO] epoch: 005 - iter: 00600 - train loss: 1.3424 - time elapsed/per batch: 85.3775 0.4269\n",
            "[Wed, 14 May 2025 17:14:34 INFO] epoch: 005 - iter: 00800 - train loss: 1.3463 - time elapsed/per batch: 85.4983 0.4275\n",
            "[Wed, 14 May 2025 17:16:00 INFO] epoch: 005 - iter: 01000 - train loss: 1.3504 - time elapsed/per batch: 85.3148 0.4266\n",
            "[Wed, 14 May 2025 17:17:25 INFO] epoch: 005 - iter: 01200 - train loss: 1.3595 - time elapsed/per batch: 85.1134 0.4256\n",
            "[Wed, 14 May 2025 17:18:50 INFO] epoch: 005 - iter: 01400 - train loss: 1.3628 - time elapsed/per batch: 85.2335 0.4262\n",
            "[Wed, 14 May 2025 17:20:15 INFO] epoch: 005 - iter: 01600 - train loss: 1.3352 - time elapsed/per batch: 85.5152 0.4276\n",
            "[Wed, 14 May 2025 17:21:41 INFO] epoch: 005 - iter: 01800 - train loss: 1.3473 - time elapsed/per batch: 85.6621 0.4283\n",
            "[Wed, 14 May 2025 17:26:37 INFO] epoch: 005 - iter: 01909 - valid loss: 2.9720 - bleu score: 0.2474 - full evaluation time: 248.3809\n",
            "[Wed, 14 May 2025 17:28:03 INFO] epoch: 006 - iter: 00200 - train loss: 1.2871 - time elapsed/per batch: 86.6863 0.4334\n",
            "[Wed, 14 May 2025 17:29:29 INFO] epoch: 006 - iter: 00400 - train loss: 1.2901 - time elapsed/per batch: 85.6061 0.4280\n",
            "[Wed, 14 May 2025 17:30:54 INFO] epoch: 006 - iter: 00600 - train loss: 1.2813 - time elapsed/per batch: 85.3679 0.4268\n",
            "[Wed, 14 May 2025 17:32:20 INFO] epoch: 006 - iter: 00800 - train loss: 1.2937 - time elapsed/per batch: 85.6604 0.4283\n",
            "[Wed, 14 May 2025 17:33:46 INFO] epoch: 006 - iter: 01000 - train loss: 1.2950 - time elapsed/per batch: 85.6728 0.4284\n",
            "[Wed, 14 May 2025 17:35:11 INFO] epoch: 006 - iter: 01200 - train loss: 1.3041 - time elapsed/per batch: 85.3990 0.4270\n",
            "[Wed, 14 May 2025 17:36:36 INFO] epoch: 006 - iter: 01400 - train loss: 1.3017 - time elapsed/per batch: 85.2987 0.4265\n",
            "[Wed, 14 May 2025 17:38:02 INFO] epoch: 006 - iter: 01600 - train loss: 1.3052 - time elapsed/per batch: 85.3058 0.4265\n",
            "[Wed, 14 May 2025 17:39:27 INFO] epoch: 006 - iter: 01800 - train loss: 1.3022 - time elapsed/per batch: 85.6129 0.4281\n",
            "[Wed, 14 May 2025 17:43:53 INFO] epoch: 006 - iter: 01909 - valid loss: 2.9382 - bleu score: 0.2536 - full evaluation time: 218.6839\n",
            "[Wed, 14 May 2025 17:45:20 INFO] epoch: 007 - iter: 00200 - train loss: 1.2495 - time elapsed/per batch: 86.9997 0.4350\n",
            "[Wed, 14 May 2025 17:46:45 INFO] epoch: 007 - iter: 00400 - train loss: 1.2296 - time elapsed/per batch: 85.5639 0.4278\n",
            "[Wed, 14 May 2025 17:48:11 INFO] epoch: 007 - iter: 00600 - train loss: 1.2435 - time elapsed/per batch: 85.8774 0.4294\n",
            "[Wed, 14 May 2025 17:49:37 INFO] epoch: 007 - iter: 00800 - train loss: 1.2476 - time elapsed/per batch: 85.2410 0.4262\n",
            "[Wed, 14 May 2025 17:51:02 INFO] epoch: 007 - iter: 01000 - train loss: 1.2613 - time elapsed/per batch: 85.1108 0.4256\n",
            "[Wed, 14 May 2025 17:52:28 INFO] epoch: 007 - iter: 01200 - train loss: 1.2555 - time elapsed/per batch: 85.8733 0.4294\n",
            "[Wed, 14 May 2025 17:53:53 INFO] epoch: 007 - iter: 01400 - train loss: 1.2691 - time elapsed/per batch: 85.4876 0.4274\n",
            "[Wed, 14 May 2025 17:55:19 INFO] epoch: 007 - iter: 01600 - train loss: 1.2558 - time elapsed/per batch: 85.9523 0.4298\n",
            "[Wed, 14 May 2025 17:56:45 INFO] epoch: 007 - iter: 01800 - train loss: 1.2507 - time elapsed/per batch: 85.5934 0.4280\n",
            "[Wed, 14 May 2025 18:00:31 INFO] epoch: 007 - iter: 01909 - valid loss: 2.9325 - bleu score: 0.2519 - full evaluation time: 180.0176\n",
            "[Wed, 14 May 2025 18:01:58 INFO] epoch: 008 - iter: 00200 - train loss: 1.1980 - time elapsed/per batch: 86.5508 0.4328\n",
            "[Wed, 14 May 2025 18:03:23 INFO] epoch: 008 - iter: 00400 - train loss: 1.2045 - time elapsed/per batch: 85.6290 0.4281\n",
            "[Wed, 14 May 2025 18:04:48 INFO] epoch: 008 - iter: 00600 - train loss: 1.2040 - time elapsed/per batch: 84.9439 0.4247\n",
            "[Wed, 14 May 2025 18:06:14 INFO] epoch: 008 - iter: 00800 - train loss: 1.2152 - time elapsed/per batch: 85.2624 0.4263\n",
            "[Wed, 14 May 2025 18:07:39 INFO] epoch: 008 - iter: 01000 - train loss: 1.2233 - time elapsed/per batch: 85.5129 0.4276\n",
            "[Wed, 14 May 2025 18:09:05 INFO] epoch: 008 - iter: 01200 - train loss: 1.2126 - time elapsed/per batch: 85.8520 0.4293\n",
            "[Wed, 14 May 2025 18:10:30 INFO] epoch: 008 - iter: 01400 - train loss: 1.2210 - time elapsed/per batch: 85.4840 0.4274\n",
            "[Wed, 14 May 2025 18:11:56 INFO] epoch: 008 - iter: 01600 - train loss: 1.2205 - time elapsed/per batch: 85.7804 0.4289\n",
            "[Wed, 14 May 2025 18:13:22 INFO] epoch: 008 - iter: 01800 - train loss: 1.2199 - time elapsed/per batch: 85.2970 0.4265\n",
            "[Wed, 14 May 2025 18:17:10 INFO] epoch: 008 - iter: 01909 - valid loss: 2.9225 - bleu score: 0.2570 - full evaluation time: 182.1855\n",
            "[Wed, 14 May 2025 18:18:37 INFO] epoch: 009 - iter: 00200 - train loss: 1.1591 - time elapsed/per batch: 86.6426 0.4332\n",
            "[Wed, 14 May 2025 18:20:02 INFO] epoch: 009 - iter: 00400 - train loss: 1.1628 - time elapsed/per batch: 85.4503 0.4273\n",
            "[Wed, 14 May 2025 18:21:28 INFO] epoch: 009 - iter: 00600 - train loss: 1.1878 - time elapsed/per batch: 85.7607 0.4288\n",
            "[Wed, 14 May 2025 18:22:54 INFO] epoch: 009 - iter: 00800 - train loss: 1.1849 - time elapsed/per batch: 85.6491 0.4282\n",
            "[Wed, 14 May 2025 18:24:19 INFO] epoch: 009 - iter: 01000 - train loss: 1.1808 - time elapsed/per batch: 85.5971 0.4280\n",
            "[Wed, 14 May 2025 18:25:45 INFO] epoch: 009 - iter: 01200 - train loss: 1.1819 - time elapsed/per batch: 85.3075 0.4265\n",
            "[Wed, 14 May 2025 18:27:10 INFO] epoch: 009 - iter: 01400 - train loss: 1.1838 - time elapsed/per batch: 85.3850 0.4269\n",
            "[Wed, 14 May 2025 18:28:36 INFO] epoch: 009 - iter: 01600 - train loss: 1.1946 - time elapsed/per batch: 85.8868 0.4294\n",
            "[Wed, 14 May 2025 18:30:01 INFO] epoch: 009 - iter: 01800 - train loss: 1.1916 - time elapsed/per batch: 85.3252 0.4266\n",
            "[Wed, 14 May 2025 18:34:18 INFO] epoch: 009 - iter: 01909 - valid loss: 2.9211 - bleu score: 0.2576 - full evaluation time: 210.3384\n"
          ]
        }
      ]
    },
    {
      "cell_type": "code",
      "source": [
        "!cp models/vi_lo.model/checkpoint_last.pt /content/drive/MyDrive/"
      ],
      "metadata": {
        "id": "vUTPPa1VdjLM",
        "colab": {
          "base_uri": "https://localhost:8080/"
        },
        "outputId": "e0da75e2-d380-4e12-dd1e-599f2f32cb87"
      },
      "execution_count": null,
      "outputs": [
        {
          "output_type": "stream",
          "name": "stdout",
          "text": [
            "cp: cannot stat 'models/vi_lo.model/checkpoint_last.pt': No such file or directory\n"
          ]
        }
      ]
    },
    {
      "cell_type": "markdown",
      "source": [
        "Nếu sao lưu config và tokenizer"
      ],
      "metadata": {
        "id": "GxNlGK8hZQA4"
      }
    }
  ]
}