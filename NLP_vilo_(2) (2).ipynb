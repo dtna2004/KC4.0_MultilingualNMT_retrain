{
  "nbformat": 4,
  "nbformat_minor": 0,
  "metadata": {
    "colab": {
      "provenance": []
    },
    "kernelspec": {
      "name": "python3",
      "display_name": "Python 3"
    },
    "language_info": {
      "name": "python"
    }
  },
  "cells": [
    {
      "cell_type": "code",
      "execution_count": null,
      "metadata": {
        "colab": {
          "base_uri": "https://localhost:8080/"
        },
        "id": "s1xo9ixMJ6kK",
        "outputId": "f066ff04-9834-4037-89ab-5c06e9013571"
      },
      "outputs": [
        {
          "output_type": "stream",
          "name": "stdout",
          "text": [
            "Cloning into 'KC4.0_MultilingualNMT_retrain'...\n",
            "remote: Enumerating objects: 308, done.\u001b[K\n",
            "remote: Counting objects: 100% (116/116), done.\u001b[K\n",
            "remote: Compressing objects: 100% (72/72), done.\u001b[K\n",
            "remote: Total 308 (delta 52), reused 62 (delta 43), pack-reused 192 (from 2)\u001b[K\n",
            "Receiving objects: 100% (308/308), 66.07 MiB | 12.39 MiB/s, done.\n",
            "Resolving deltas: 100% (88/88), done.\n",
            "Updating files: 100% (179/179), done.\n"
          ]
        }
      ],
      "source": [
        "!git clone https://github.com/dtna2004/KC4.0_MultilingualNMT_retrain.git"
      ]
    },
    {
      "cell_type": "code",
      "source": [
        "from google.colab import drive\n",
        "drive.mount('/content/drive')"
      ],
      "metadata": {
        "colab": {
          "base_uri": "https://localhost:8080/"
        },
        "id": "gkduJg3sDsMD",
        "outputId": "36b14024-3b61-456d-b6fb-aace51e80acb"
      },
      "execution_count": null,
      "outputs": [
        {
          "output_type": "stream",
          "name": "stdout",
          "text": [
            "Mounted at /content/drive\n"
          ]
        }
      ]
    },
    {
      "cell_type": "markdown",
      "source": [
        "**Requirements**"
      ],
      "metadata": {
        "id": "VGsaAzi-O5U3"
      }
    },
    {
      "cell_type": "code",
      "source": [
        "!pip install torch -q"
      ],
      "metadata": {
        "collapsed": true,
        "id": "0C9KVcsVOFG_",
        "colab": {
          "base_uri": "https://localhost:8080/"
        },
        "outputId": "15fcf7ca-1ba9-43aa-e69c-212ec4f71255"
      },
      "execution_count": null,
      "outputs": [
        {
          "output_type": "stream",
          "name": "stdout",
          "text": [
            "\u001b[2K   \u001b[90m━━━━━━━━━━━━━━━━━━━━━━━━━━━━━━━━━━━━━━━━\u001b[0m \u001b[32m363.4/363.4 MB\u001b[0m \u001b[31m4.6 MB/s\u001b[0m eta \u001b[36m0:00:00\u001b[0m\n",
            "\u001b[2K   \u001b[90m━━━━━━━━━━━━━━━━━━━━━━━━━━━━━━━━━━━━━━━━\u001b[0m \u001b[32m13.8/13.8 MB\u001b[0m \u001b[31m109.6 MB/s\u001b[0m eta \u001b[36m0:00:00\u001b[0m\n",
            "\u001b[2K   \u001b[90m━━━━━━━━━━━━━━━━━━━━━━━━━━━━━━━━━━━━━━━━\u001b[0m \u001b[32m24.6/24.6 MB\u001b[0m \u001b[31m98.8 MB/s\u001b[0m eta \u001b[36m0:00:00\u001b[0m\n",
            "\u001b[2K   \u001b[90m━━━━━━━━━━━━━━━━━━━━━━━━━━━━━━━━━━━━━━━━\u001b[0m \u001b[32m883.7/883.7 kB\u001b[0m \u001b[31m53.5 MB/s\u001b[0m eta \u001b[36m0:00:00\u001b[0m\n",
            "\u001b[2K   \u001b[90m━━━━━━━━━━━━━━━━━━━━━━━━━━━━━━━━━━━━━━━━\u001b[0m \u001b[32m664.8/664.8 MB\u001b[0m \u001b[31m2.9 MB/s\u001b[0m eta \u001b[36m0:00:00\u001b[0m\n",
            "\u001b[2K   \u001b[90m━━━━━━━━━━━━━━━━━━━━━━━━━━━━━━━━━━━━━━━━\u001b[0m \u001b[32m211.5/211.5 MB\u001b[0m \u001b[31m5.5 MB/s\u001b[0m eta \u001b[36m0:00:00\u001b[0m\n",
            "\u001b[2K   \u001b[90m━━━━━━━━━━━━━━━━━━━━━━━━━━━━━━━━━━━━━━━━\u001b[0m \u001b[32m56.3/56.3 MB\u001b[0m \u001b[31m13.0 MB/s\u001b[0m eta \u001b[36m0:00:00\u001b[0m\n",
            "\u001b[2K   \u001b[90m━━━━━━━━━━━━━━━━━━━━━━━━━━━━━━━━━━━━━━━━\u001b[0m \u001b[32m127.9/127.9 MB\u001b[0m \u001b[31m7.3 MB/s\u001b[0m eta \u001b[36m0:00:00\u001b[0m\n",
            "\u001b[2K   \u001b[90m━━━━━━━━━━━━━━━━━━━━━━━━━━━━━━━━━━━━━━━━\u001b[0m \u001b[32m207.5/207.5 MB\u001b[0m \u001b[31m5.4 MB/s\u001b[0m eta \u001b[36m0:00:00\u001b[0m\n",
            "\u001b[2K   \u001b[90m━━━━━━━━━━━━━━━━━━━━━━━━━━━━━━━━━━━━━━━━\u001b[0m \u001b[32m21.1/21.1 MB\u001b[0m \u001b[31m81.2 MB/s\u001b[0m eta \u001b[36m0:00:00\u001b[0m\n",
            "\u001b[?25h"
          ]
        }
      ]
    },
    {
      "cell_type": "code",
      "source": [
        "!pip install torchtext==0.6.0 -q"
      ],
      "metadata": {
        "collapsed": true,
        "id": "hI2uihGNPnjC",
        "colab": {
          "base_uri": "https://localhost:8080/"
        },
        "outputId": "b3eb2502-c9b3-4410-aeba-3c8ae37fa8d7"
      },
      "execution_count": null,
      "outputs": [
        {
          "output_type": "stream",
          "name": "stdout",
          "text": [
            "\u001b[?25l   \u001b[90m━━━━━━━━━━━━━━━━━━━━━━━━━━━━━━━━━━━━━━━━\u001b[0m \u001b[32m0.0/64.2 kB\u001b[0m \u001b[31m?\u001b[0m eta \u001b[36m-:--:--\u001b[0m\r\u001b[2K   \u001b[90m━━━━━━━━━━━━━━━━━━━━━━━━━━━━━━━━━━━━━━━━\u001b[0m \u001b[32m64.2/64.2 kB\u001b[0m \u001b[31m2.9 MB/s\u001b[0m eta \u001b[36m0:00:00\u001b[0m\n",
            "\u001b[?25h"
          ]
        }
      ]
    },
    {
      "cell_type": "code",
      "source": [
        "!pip install nltk pyvi spacy dill -q"
      ],
      "metadata": {
        "collapsed": true,
        "id": "PKbNzmRIPrD1",
        "colab": {
          "base_uri": "https://localhost:8080/"
        },
        "outputId": "75532dbd-202d-4847-cc6d-7b2231a4121a"
      },
      "execution_count": null,
      "outputs": [
        {
          "output_type": "stream",
          "name": "stdout",
          "text": [
            "\u001b[2K   \u001b[90m━━━━━━━━━━━━━━━━━━━━━━━━━━━━━━━━━━━━━━━━\u001b[0m \u001b[32m8.5/8.5 MB\u001b[0m \u001b[31m87.0 MB/s\u001b[0m eta \u001b[36m0:00:00\u001b[0m\n",
            "\u001b[2K   \u001b[90m━━━━━━━━━━━━━━━━━━━━━━━━━━━━━━━━━━━━━━━━\u001b[0m \u001b[32m1.3/1.3 MB\u001b[0m \u001b[31m79.4 MB/s\u001b[0m eta \u001b[36m0:00:00\u001b[0m\n",
            "\u001b[?25h"
          ]
        }
      ]
    },
    {
      "cell_type": "code",
      "source": [
        "!pip install PyYAML==6.0.1 -q"
      ],
      "metadata": {
        "collapsed": true,
        "id": "O2M7odgAQA-R",
        "colab": {
          "base_uri": "https://localhost:8080/"
        },
        "outputId": "58e4641b-0e76-42c1-b898-12283f7e79e0"
      },
      "execution_count": null,
      "outputs": [
        {
          "output_type": "stream",
          "name": "stdout",
          "text": [
            "\u001b[?25l   \u001b[90m━━━━━━━━━━━━━━━━━━━━━━━━━━━━━━━━━━━━━━━━\u001b[0m \u001b[32m0.0/757.7 kB\u001b[0m \u001b[31m?\u001b[0m eta \u001b[36m-:--:--\u001b[0m\r\u001b[2K   \u001b[91m━━━━━━━━━━━━━━━━━━━━━━━━━━━━━━━━━━━━━━━\u001b[0m\u001b[90m╺\u001b[0m \u001b[32m747.5/757.7 kB\u001b[0m \u001b[31m23.4 MB/s\u001b[0m eta \u001b[36m0:00:01\u001b[0m\r\u001b[2K   \u001b[90m━━━━━━━━━━━━━━━━━━━━━━━━━━━━━━━━━━━━━━━━\u001b[0m \u001b[32m757.7/757.7 kB\u001b[0m \u001b[31m17.8 MB/s\u001b[0m eta \u001b[36m0:00:00\u001b[0m\n",
            "\u001b[?25h"
          ]
        }
      ]
    },
    {
      "cell_type": "markdown",
      "source": [
        "**Chọn tokenizer**"
      ],
      "metadata": {
        "id": "zidkgWvtQ-9i"
      }
    },
    {
      "cell_type": "code",
      "source": [
        "import sentencepiece as spm\n",
        "!pip list | grep sentencepiece"
      ],
      "metadata": {
        "colab": {
          "base_uri": "https://localhost:8080/"
        },
        "id": "07-DntocQYhz",
        "outputId": "302ddc6c-30b3-44e9-bc32-80e53a6621b0"
      },
      "execution_count": null,
      "outputs": [
        {
          "output_type": "stream",
          "name": "stdout",
          "text": [
            "sentencepiece                         0.2.0\n"
          ]
        }
      ]
    },
    {
      "cell_type": "markdown",
      "source": [
        "**Train Tokenize**"
      ],
      "metadata": {
        "id": "z7ZAsWzHSERX"
      }
    },
    {
      "cell_type": "code",
      "source": [
        "import sentencepiece as spm\n",
        "\n",
        "spm.SentencePieceTrainer.train(\n",
        "    input=\"/content/KC4.0_MultilingualNMT_retrain/data/iwslt_en_vi/train2023.vi,/content/KC4.0_MultilingualNMT_retrain/data/iwslt_en_vi/train2023.lo\",\n",
        "    model_prefix=\"vi_lo_bpe\",\n",
        "    vocab_size=12000,\n",
        "    character_coverage=1.0,\n",
        "    model_type=\"bpe\"\n",
        ")"
      ],
      "metadata": {
        "id": "ozw1syXfQ8v4"
      },
      "execution_count": null,
      "outputs": []
    },
    {
      "cell_type": "markdown",
      "source": [
        "nhét vi_lo_bpe.model và .vocab vào repo cho tiện"
      ],
      "metadata": {
        "id": "BmBawuBiSgOk"
      }
    },
    {
      "cell_type": "code",
      "source": [
        "!find /content -name \"vi_lo_bpe.*\""
      ],
      "metadata": {
        "colab": {
          "base_uri": "https://localhost:8080/"
        },
        "id": "cL3-hyCsSxyZ",
        "outputId": "9998a281-74ea-4b87-8e35-57d020eafbce"
      },
      "execution_count": null,
      "outputs": [
        {
          "output_type": "stream",
          "name": "stdout",
          "text": [
            "/content/vi_lo_bpe.vocab\n",
            "/content/vi_lo_bpe.model\n"
          ]
        }
      ]
    },
    {
      "cell_type": "code",
      "source": [
        "!mv /content/vi_lo_bpe.* /content/KC4.0_MultilingualNMT_retrain/"
      ],
      "metadata": {
        "id": "KQmlLatuSej9"
      },
      "execution_count": null,
      "outputs": []
    },
    {
      "cell_type": "markdown",
      "source": [
        "# **Thực hiện tokenize**"
      ],
      "metadata": {
        "id": "O6ehiqycTh-S"
      }
    },
    {
      "cell_type": "code",
      "source": [
        "import sentencepiece as spm\n",
        "\n",
        "sp = spm.SentencePieceProcessor()\n",
        "sp.load(\"/content/KC4.0_MultilingualNMT_retrain/vi_lo_bpe.model\")"
      ],
      "metadata": {
        "colab": {
          "base_uri": "https://localhost:8080/"
        },
        "id": "hRryNrGlTebL",
        "outputId": "2a27586b-0d7b-40b0-82e9-ce8217a1275f"
      },
      "execution_count": null,
      "outputs": [
        {
          "output_type": "execute_result",
          "data": {
            "text/plain": [
              "True"
            ]
          },
          "metadata": {},
          "execution_count": 12
        }
      ]
    },
    {
      "cell_type": "code",
      "source": [
        "def tokenize_file(input_path, output_path):\n",
        "    with open(input_path, 'r', encoding='utf-8') as fin, open(output_path, 'w', encoding='utf-8') as fout:\n",
        "        for line in fin:\n",
        "            tokens = sp.encode(line.strip(), out_type=str)\n",
        "            fout.write(' '.join(tokens) + '\\n')"
      ],
      "metadata": {
        "id": "MZXFt7tzTr8z"
      },
      "execution_count": null,
      "outputs": []
    },
    {
      "cell_type": "code",
      "source": [
        "# Train\n",
        "tokenize_file(\"/content/KC4.0_MultilingualNMT_retrain/data/iwslt_en_vi/train2023.vi\",  \"/content/KC4.0_MultilingualNMT_retrain/data/iwslt_en_vi/train_tok.vi\")\n",
        "tokenize_file(\"/content/KC4.0_MultilingualNMT_retrain/data/iwslt_en_vi/train2023.lo\",  \"/content/KC4.0_MultilingualNMT_retrain/data/iwslt_en_vi/train_tok.lo\")\n",
        "\n",
        "# Validation\n",
        "tokenize_file(\"/content/KC4.0_MultilingualNMT_retrain/data/iwslt_en_vi/dev2023.vi\", \"/content/KC4.0_MultilingualNMT_retrain/data/iwslt_en_vi/valid_tok.vi\")\n",
        "tokenize_file(\"/content/KC4.0_MultilingualNMT_retrain/data/iwslt_en_vi/dev2023.lo\", \"/content/KC4.0_MultilingualNMT_retrain/data/iwslt_en_vi/valid_tok.lo\")"
      ],
      "metadata": {
        "id": "Z3H3jQjpTwM9"
      },
      "execution_count": null,
      "outputs": []
    },
    {
      "cell_type": "markdown",
      "source": [
        "Ghi đè lên dữ liệu cũ để bắt đầu training"
      ],
      "metadata": {
        "id": "S5yz9f4jT56R"
      }
    },
    {
      "cell_type": "code",
      "source": [
        "!mv /content/KC4.0_MultilingualNMT_retrain/data/iwslt_en_vi/train_tok.vi /content/KC4.0_MultilingualNMT_retrain/data/iwslt_en_vi/train2023.vi\n",
        "!mv /content/KC4.0_MultilingualNMT_retrain/data/iwslt_en_vi/train_tok.lo /content/KC4.0_MultilingualNMT_retrain/data/iwslt_en_vi/train2023.lo\n",
        "\n",
        "!mv /content/KC4.0_MultilingualNMT_retrain/data/iwslt_en_vi/valid_tok.vi /content/KC4.0_MultilingualNMT_retrain/data/iwslt_en_vi/dev2023.vi\n",
        "!mv /content/KC4.0_MultilingualNMT_retrain/data/iwslt_en_vi/valid_tok.lo /content/KC4.0_MultilingualNMT_retrain/data/iwslt_en_vi/dev2023.lo"
      ],
      "metadata": {
        "id": "uZbtWUx4T-D6"
      },
      "execution_count": null,
      "outputs": []
    },
    {
      "cell_type": "markdown",
      "source": [
        "# **Training**"
      ],
      "metadata": {
        "id": "MhV2hy8ZUB5t"
      }
    },
    {
      "cell_type": "markdown",
      "source": [
        "Đang để YaML bản cao hơn requirements nên có cái này"
      ],
      "metadata": {
        "id": "Hk5xxzUBW57e"
      }
    },
    {
      "cell_type": "code",
      "source": [
        "import yaml\n",
        "\n",
        "# Monkey patch: thay thế yaml.load bằng phiên bản an toàn có Loader\n",
        "def safe_yaml_load_patch():\n",
        "    orig_load = yaml.load\n",
        "    def safe_load_with_loader(*args, **kwargs):\n",
        "        if 'Loader' not in kwargs:\n",
        "            kwargs['Loader'] = yaml.SafeLoader\n",
        "        return orig_load(*args, **kwargs)\n",
        "    yaml.load = safe_load_with_loader\n",
        "\n",
        "safe_yaml_load_patch()\n"
      ],
      "metadata": {
        "id": "fxyl0B6LW5WN"
      },
      "execution_count": null,
      "outputs": []
    },
    {
      "cell_type": "code",
      "source": [
        "!ls -lh /content/KC4.0_MultilingualNMT_retrain/data/iwslt_en_vi/\n",
        "!head -n 5 /content/KC4.0_MultilingualNMT_retrain/data/iwslt_en_vi/train2023.vi\n",
        "!head -n 5 /content/KC4.0_MultilingualNMT_retrain/data/iwslt_en_vi/train2023.lo\n",
        "!head -n 5 /content/KC4.0_MultilingualNMT_retrain/data/iwslt_en_vi/dev2023.lo\n",
        "!head -n 5 /content/KC4.0_MultilingualNMT_retrain/data/iwslt_en_vi/dev2023.vi"
      ],
      "metadata": {
        "colab": {
          "base_uri": "https://localhost:8080/"
        },
        "id": "5R7qVlvTXv9W",
        "outputId": "b25a818c-99d4-4af0-f400-f764030c40f9"
      },
      "execution_count": null,
      "outputs": [
        {
          "output_type": "stream",
          "name": "stdout",
          "text": [
            "total 79M\n",
            "-rw-r--r-- 1 root root 505K May 13 00:59 dev2023.lo\n",
            "-rw-r--r-- 1 root root 378K May 13 00:59 dev2023.vi\n",
            "-rw-r--r-- 1 root root 310K May 13 00:31 test2023.lo\n",
            "-rw-r--r-- 1 root root 164K May 13 00:31 test2023.vi\n",
            "-rw-r--r-- 1 root root  27M May 13 00:59 train2023.lo\n",
            "-rw-r--r-- 1 root root  20M May 13 00:58 train2023.vi\n",
            "-rw-r--r-- 1 root root  13M May 13 00:31 train.en\n",
            "-rw-r--r-- 1 root root  18M May 13 00:31 train.vi\n",
            "-rw-r--r-- 1 root root 137K May 13 00:31 tst2012.en\n",
            "-rw-r--r-- 1 root root 184K May 13 00:31 tst2012.vi\n",
            "-rw-r--r-- 1 root root 130K May 13 00:31 tst2013.en\n",
            "-rw-r--r-- 1 root root 180K May 13 00:31 tst2013.vi\n",
            "▁Nếu ▁anh ▁chị ▁cảm ▁thấy ▁e ▁ngại ▁khi ▁giới ▁thiệu ▁về ▁tin ▁mừng , ▁hãy ▁tập ▁bắt ▁chuyện ▁mà ▁không ▁nhất ▁thiết ▁làm ▁chứng .\n",
            "▁H ẳn ▁nhiều ▁người ▁thấp ▁kém ▁e ▁sợ ▁và ▁tránh ▁mặt ▁những ▁nhà ▁lãnh ▁đạo ▁ấy , ▁thay ▁vì ▁xin ▁họ ▁giúp ▁đỡ ▁hoặc ▁chỉ ▁dẫn .\n",
            "▁21 ▁B ấy ▁giờ , ▁khi ▁hoàng ▁hậu ▁trông ▁thấy ▁vẻ ▁kinh ▁hãi ▁của ▁các ▁tôi ▁tớ , ▁bà ▁cũng ▁cảm ▁thấy ▁sợ ▁hãi ▁vô ▁cùng , ▁e ▁rằng ▁điều ▁dữ ▁sẽ ▁đến ▁với ▁bà .\n",
            "▁Q uyết ▁định ▁để ▁thay ▁đổi ▁thuộc ▁vào ▁chính ▁các ▁anh ▁chị ▁em , ▁và ▁chỉ ▁một ▁mình ▁các ▁anh ▁chị ▁em ▁mà ▁thôi .\n",
            "▁Những ▁lựa ▁chọn ▁của ▁các ▁em ▁ngay ▁trước ▁mắt ▁là ▁quan ▁trọng ▁vĩnh ▁viễn .\n",
            "▁ຖ້າ ▁ເຈົ້າ ▁ຮູ້ສຶກ ▁ຢ້ານ ▁ທີ່ ▁ຈະ ▁ປະກາດ ▁ຂໍ ▁ໃຫ້ ▁ຊ ້ອມ ▁ເວົ້າ ▁ໃນ ▁ແບບ ▁ທີ່ ▁ຍັງ ▁ບໍ່ ▁ມີ ▁ເປົ້າ ▁ຫມາຍ ▁ປະກາດ .\n",
            "▁ຄົນ ▁ຕໍ່າ ▁ຕ ້ອຍ ▁ຈໍານວນ ▁ຫຼາຍ ▁ຄົງ ▁ຈະ ▁ຫຼ ົບ ▁ຫຼີກ ▁ຜູ້ ▁ນໍາ ▁ດັ່ງ ▁ກ່າວ ▁ແທນ ▁ທີ່ ▁ຈະ ▁ຂໍ ▁ຄວາມ ▁ຊ່ວຍເຫຼືອ ▁ຫຼື ▁ການ ▁ຊີ້ ▁ນໍາ ▁ຈາກ ▁ເຂົາ ▁ເຈົ້າ .\n",
            "▁21 ▁ບັດ ▁ນີ້ ເມື່ອ ລາ ຊິນ ີ ▁ເຫັນ ▁ຄວາມ ▁ຢ້ານ ▁ກົວ ▁ຂອງ ▁ພວກ ▁ຂ້າ ▁ໃຊ້ ▁ນາງ ▁ກໍ ▁ເລີ່ມ ▁ມີ ▁ຄວາມ ▁ຢ້ານ ▁ກົວ ▁ຫລາຍ ▁ຂຶ້ນ , ▁ຢ້ານ ▁ວ່າ ▁ສິ່ງ ▁ບໍ່ ▁ດີ ▁ຈະ ▁ເກີດ ▁ກັບ ▁ນາງ .\n",
            "▁ການ ▁ຕັດສິນ ▁ໃຈ ▁ທີ່ ▁ຈະ ▁ປ່ຽນ ແປງ ▁ກໍ ▁ເປັນ ▁ຂອງ ▁ທ່ານ ▁, ▁ແລະ ▁ເປັນ ▁ຂອງ ▁ທ່ານ ▁ຄົນ ▁ດຽວ .\n",
            "▁ການ ▁ເລືອກ ▁ທີ່ ▁ພວກ ▁ເຈົ້າ ▁ເຮັດ ▁ໃນ ▁ເວລາ ▁ນີ້ ▁ມີ ▁ຄວາມ ▁ສໍາຄັນ ▁ຕະຫລອດ ▁ການ .\n",
            "▁ໃນ ການປ າກ ເວົ້າ ຍາວ ▁3 ▁ນາທີ ຂອງນາງ , ▁ດ ຣ ▁Lau ra ▁Tr ice ▁ສະ ▁ເຫນີ ▁ຄວາມຄິດ ກ່ຽວກັບ ພ ະລັງ ຂອງ ▁2 ▁ຊົ່ວໂມງ ▁& ▁la qu o ; ▁ຂໍຂອບໃຈ ▁& ▁la qu o ; ▁- ▁ເຮັດໃຫ້ ມິດ ຕະພາບ ຂອງທ່ານ ເລິກ ເຊິ່ງ , ▁ເພີ່ມ ທະວີ ຄວາມເປັນ ມິດ , ▁ແລະ ໃຫ້ ແນ່ໃຈວ່າ ຄົນອື່ນ ຮູ້ ວ່າມັນ ມີຄວາມ ▁ຫມາຍ ▁ແນວ ໃດ ຕໍ່ ທ່ານ . ▁ຈົ່ງ ຍົກ ເລ ີກ .\n",
            "▁ບາງທີ ມັນ ກໍ່ ລົ້ມ ເຫລ ວ . ▁ແລະຫຼັງຈາກນັ້ນ , ▁ຄວາມ ຮັບຜິດຊອບ ຂອງພວກເຮົາແມ່ນ ຫຍັງ ?\n",
            "▁ໂຄງການ ດັ່ງກ່າວ ▁ກໍ ມ ຸ່ງ ໄປ ເຖິງ ການ ສ້າງ ສະພາບແວດລ້ອມ ນະໂຍບາຍ ທີ່ມີ ຜົນປະໂຫຍດ ໃຫ້ແກ່ ການ ຊຸກຍູ້ ການ ກະທໍາ ທີ່ມີຄວາມ ຮັບຜິດຊອບ ▁ແລະ ▁ເພີ່ມ ກາ ລະ ໂອກາດ ສົນທະນາ ລະຫວ່າງ ບັນດາ ຝ່າຍ ທີ່ກ່ຽວຂ້ອງ .\n",
            "▁ພ້ອມ ທັງ , ▁ບັນດາ ຄວາມ ຫຍຸ້ງຍາກ , ▁ສິ່ງ ທ້າທາຍ ທີ່ ▁ອາຊຽນ ▁ຕ້ອງ ປະເຊີນ ຫນ້າ ▁ແລະ ▁ຄວນ ສົມທົບ ກັນ ເມື່ອ ຜັນຂະຫຍາຍ ການ ສ້າງຕັ້ງ ຂອບເຂດ ໃຫ້ແກ່ ເຄືອຂ່າຍ ▁5 G ▁ກໍ່ ໄດ້ ຍົກ ອອກມາ ປຶກສາ ຫາລື .\n",
            "▁ກ່ອນ ອື່ນ ▁ຫມົດ , ▁ມັນເປັນ ຄວາມຈິງ ທີ່ວ່າ ຂ້ອຍ ບໍ່ແມ່ນ ຄົນອື່ນ , ▁ຄົນ ທີ່ ລ ້າ ສະໄຫມ ນີ້ , ▁ຕະ ຫຼາດ ເສລີ ທີ່ມີ ການຄວບຄຸມ ຂອງລັດຖະບານ .\n",
            "▁Trong ▁bài ▁nói ▁dài ▁3 ▁phút ▁, ▁Tiến ▁sĩ ▁Lau ra ▁Tr ice ▁trình ▁bày ▁suy ▁nghĩ ▁về ▁sức ▁mạnh ▁của ▁2 ▁tiếng ▁& quot ; ▁cám ▁ơn ▁& quot ; ▁-- ▁làm ▁sâu ▁sắc ▁thêm ▁tình ▁bạn ▁bè ▁, ▁th ắt ▁chặt ▁tình ▁thân ▁, ▁và ▁để ▁chắc ▁chắn ▁rằng ▁người ▁khác ▁biết ▁họ ▁có ▁ý ▁nghĩa ▁như ▁thế ▁nào ▁với ▁bạn ▁. ▁Hãy ▁thử ▁.\n",
            "▁Có ▁thể ▁sự ▁việc ▁bất ▁thành ▁. ▁Và ▁rồi ▁, ▁trách ▁nhiệm ▁của ▁chúng ▁ta ▁là ▁gì ▁?\n",
            "▁Dự ▁án ▁cũng ▁hướng ▁tới ▁tạo ▁ra ▁môi ▁trường ▁chính ▁sách ▁có ▁lợi ▁cho ▁việc ▁thúc ▁đẩy ▁hành ▁vi ▁có ▁trách ▁nhiệm ▁và ▁tăng ▁cơ ▁hội ▁đối ▁thoại ▁giữa ▁các ▁bên ▁liên ▁quan .\n",
            "▁Đồng ▁thời , ▁những ▁khó ▁khăn , ▁thách ▁thức ▁của ▁ASEAN ▁sẽ ▁phải ▁đối ▁mặt ▁và ▁cần ▁phối ▁hợp ▁khi ▁triển ▁khai ▁xây ▁dựng ▁hệ ▁sinh ▁thái ▁cho ▁mạng ▁5 G ▁cũng ▁được ▁đưa ▁ra ▁thảo ▁luận .\n",
            "▁Trước ▁tiên ▁, ▁đúng ▁là ▁tôi ▁cũng ▁chẳng ▁phải ▁là ▁ai ▁đó ▁, ▁con ▁người ▁lỗi ▁thời ▁này ▁, ▁thị ▁trường ▁tự ▁do ▁với ▁kiểm ▁soát ▁chính ▁phủ ▁.\n"
          ]
        }
      ]
    },
    {
      "cell_type": "code",
      "source": [
        "%cd /content/KC4.0_MultilingualNMT_retrain\n",
        "\n",
        "!mkdir -p models/vi_lo.model\n",
        "\n",
        "!python -m bin.main train \\\n",
        "  --model Transformer \\\n",
        "  --config config/bilingual_prototype.yml \\\n",
        "  --model_dir models/vi_lo.model\n"
      ],
      "metadata": {
        "colab": {
          "base_uri": "https://localhost:8080/"
        },
        "id": "Wfz-abtqUFwA",
        "outputId": "63ee45f1-d391-4fa9-e48d-f5714309b93b"
      },
      "execution_count": null,
      "outputs": [
        {
          "output_type": "stream",
          "name": "stdout",
          "text": [
            "/content/KC4.0_MultilingualNMT_retrain\n",
            "<frozen runpy>:128: RuntimeWarning: 'bin.main' found in sys.modules after import of package 'bin', but prior to execution of 'bin.main'; this may result in unpredictable behaviour\n",
            "Config specified, copying all to model dir\n",
            "Loaded path is a list of locations. Load in the order received, overriding and merging as needed.\n",
            "Building vocab from received data.\n",
            "No checkpoint found, start from beginning.\n",
            "[Tue, 13 May 2025 00:59:40 INFO] .lo * src vocab size = 8178\n",
            "[Tue, 13 May 2025 00:59:40 INFO] .vi * tgt vocab size = 6146\n",
            "[Tue, 13 May 2025 00:59:40 INFO] Building model...\n",
            "Zero checkpoint detected, reinitialize the model\n",
            "[Tue, 13 May 2025 00:59:44 INFO] Transformer(\n",
            "  (encoder): Encoder(\n",
            "    (embed): Embedding(8178, 512)\n",
            "    (pe): PositionalEncoder(\n",
            "      (dropout): Dropout(p=0.1, inplace=False)\n",
            "    )\n",
            "    (layers): ModuleList(\n",
            "      (0-5): 6 x EncoderLayer(\n",
            "        (norm_1): Norm()\n",
            "        (norm_2): Norm()\n",
            "        (attn): MultiHeadAttention(\n",
            "          (q_linear): Linear(in_features=512, out_features=512, bias=True)\n",
            "          (k_linear): Linear(in_features=512, out_features=512, bias=True)\n",
            "          (v_linear): Linear(in_features=512, out_features=512, bias=True)\n",
            "          (dropout): Dropout(p=0.1, inplace=False)\n",
            "          (out): Linear(in_features=512, out_features=512, bias=True)\n",
            "        )\n",
            "        (ff): FeedForward(\n",
            "          (linear_1): Linear(in_features=512, out_features=2048, bias=True)\n",
            "          (dropout): Dropout(p=0.1, inplace=False)\n",
            "          (linear_2): Linear(in_features=2048, out_features=512, bias=True)\n",
            "        )\n",
            "        (dropout_1): Dropout(p=0.1, inplace=False)\n",
            "        (dropout_2): Dropout(p=0.1, inplace=False)\n",
            "      )\n",
            "    )\n",
            "    (norm): Norm()\n",
            "  )\n",
            "  (decoder): Decoder(\n",
            "    (embed): Embedding(6146, 512)\n",
            "    (pe): PositionalEncoder(\n",
            "      (dropout): Dropout(p=0.1, inplace=False)\n",
            "    )\n",
            "    (layers): ModuleList(\n",
            "      (0-5): 6 x DecoderLayer(\n",
            "        (norm_1): Norm()\n",
            "        (norm_2): Norm()\n",
            "        (norm_3): Norm()\n",
            "        (dropout_1): Dropout(p=0.1, inplace=False)\n",
            "        (dropout_2): Dropout(p=0.1, inplace=False)\n",
            "        (dropout_3): Dropout(p=0.1, inplace=False)\n",
            "        (attn_1): MultiHeadAttention(\n",
            "          (q_linear): Linear(in_features=512, out_features=512, bias=True)\n",
            "          (k_linear): Linear(in_features=512, out_features=512, bias=True)\n",
            "          (v_linear): Linear(in_features=512, out_features=512, bias=True)\n",
            "          (dropout): Dropout(p=0.1, inplace=False)\n",
            "          (out): Linear(in_features=512, out_features=512, bias=True)\n",
            "        )\n",
            "        (attn_2): MultiHeadAttention(\n",
            "          (q_linear): Linear(in_features=512, out_features=512, bias=True)\n",
            "          (k_linear): Linear(in_features=512, out_features=512, bias=True)\n",
            "          (v_linear): Linear(in_features=512, out_features=512, bias=True)\n",
            "          (dropout): Dropout(p=0.1, inplace=False)\n",
            "          (out): Linear(in_features=512, out_features=512, bias=True)\n",
            "        )\n",
            "        (ff): FeedForward(\n",
            "          (linear_1): Linear(in_features=512, out_features=2048, bias=True)\n",
            "          (dropout): Dropout(p=0.1, inplace=False)\n",
            "          (linear_2): Linear(in_features=2048, out_features=512, bias=True)\n",
            "        )\n",
            "      )\n",
            "    )\n",
            "    (norm): Norm()\n",
            "  )\n",
            "  (out): Linear(in_features=512, out_features=6146, bias=True)\n",
            ")\n",
            "[Tue, 13 May 2025 00:59:44 INFO] Encoder: 23102464\n",
            "[Tue, 13 May 2025 00:59:44 INFO] Decoder: 28371968\n",
            "[Tue, 13 May 2025 00:59:44 INFO] * Number of parameters: 51474432\n",
            "[Tue, 13 May 2025 00:59:44 INFO] Starting training on cuda\n",
            "[Tue, 13 May 2025 01:00:45 INFO] epoch: 000 - iter: 00200 - train loss: 3.3448 - time elapsed/per batch: 60.7706 0.3039\n",
            "[Tue, 13 May 2025 01:01:50 INFO] epoch: 000 - iter: 00400 - train loss: 3.1556 - time elapsed/per batch: 65.0653 0.3253\n",
            "[Tue, 13 May 2025 01:02:55 INFO] epoch: 000 - iter: 00600 - train loss: 2.9640 - time elapsed/per batch: 65.0526 0.3253\n",
            "[Tue, 13 May 2025 01:04:01 INFO] epoch: 000 - iter: 00800 - train loss: 2.8313 - time elapsed/per batch: 65.5664 0.3278\n",
            "[Tue, 13 May 2025 01:05:06 INFO] epoch: 000 - iter: 01000 - train loss: 2.7810 - time elapsed/per batch: 65.3827 0.3269\n",
            "[Tue, 13 May 2025 01:06:11 INFO] epoch: 000 - iter: 01200 - train loss: 2.7139 - time elapsed/per batch: 65.4679 0.3273\n",
            "[Tue, 13 May 2025 01:08:24 INFO] epoch: 000 - iter: 01334 - valid loss: 5.8888 - bleu score: 0.0000 - full evaluation time: 89.0575\n",
            "[Tue, 13 May 2025 01:09:31 INFO] epoch: 001 - iter: 00200 - train loss: 2.5725 - time elapsed/per batch: 66.2084 0.3310\n",
            "[Tue, 13 May 2025 01:10:36 INFO] epoch: 001 - iter: 00400 - train loss: 2.5181 - time elapsed/per batch: 65.1624 0.3258\n",
            "[Tue, 13 May 2025 01:11:41 INFO] epoch: 001 - iter: 00600 - train loss: 2.4450 - time elapsed/per batch: 65.6084 0.3280\n",
            "[Tue, 13 May 2025 01:12:47 INFO] epoch: 001 - iter: 00800 - train loss: 2.4114 - time elapsed/per batch: 65.3400 0.3267\n",
            "[Tue, 13 May 2025 01:13:53 INFO] epoch: 001 - iter: 01000 - train loss: 2.3230 - time elapsed/per batch: 65.8403 0.3292\n",
            "[Tue, 13 May 2025 01:14:58 INFO] epoch: 001 - iter: 01200 - train loss: 2.2570 - time elapsed/per batch: 65.5938 0.3280\n",
            "[Tue, 13 May 2025 01:25:47 INFO] epoch: 001 - iter: 01334 - valid loss: 3.6964 - bleu score: 0.2649 - full evaluation time: 604.2571\n",
            "[Tue, 13 May 2025 01:26:53 INFO] epoch: 002 - iter: 00200 - train loss: 2.1382 - time elapsed/per batch: 66.2362 0.3312\n",
            "[Tue, 13 May 2025 01:27:58 INFO] epoch: 002 - iter: 00400 - train loss: 2.1463 - time elapsed/per batch: 64.8485 0.3242\n",
            "[Tue, 13 May 2025 01:29:04 INFO] epoch: 002 - iter: 00600 - train loss: 2.0898 - time elapsed/per batch: 65.9593 0.3298\n",
            "[Tue, 13 May 2025 01:30:09 INFO] epoch: 002 - iter: 00800 - train loss: 2.0640 - time elapsed/per batch: 65.5872 0.3279\n",
            "[Tue, 13 May 2025 01:31:15 INFO] epoch: 002 - iter: 01000 - train loss: 2.0352 - time elapsed/per batch: 65.5854 0.3279\n",
            "[Tue, 13 May 2025 01:32:20 INFO] epoch: 002 - iter: 01200 - train loss: 1.9976 - time elapsed/per batch: 65.3817 0.3269\n",
            "[Tue, 13 May 2025 01:42:38 INFO] epoch: 002 - iter: 01334 - valid loss: 2.9962 - bleu score: 0.2052 - full evaluation time: 573.2489\n",
            "[Tue, 13 May 2025 01:43:43 INFO] epoch: 003 - iter: 00200 - train loss: 1.9437 - time elapsed/per batch: 65.2277 0.3261\n",
            "[Tue, 13 May 2025 01:44:49 INFO] epoch: 003 - iter: 00400 - train loss: 1.8791 - time elapsed/per batch: 65.3834 0.3269\n",
            "[Tue, 13 May 2025 01:45:55 INFO] epoch: 003 - iter: 00600 - train loss: 1.8173 - time elapsed/per batch: 65.9357 0.3297\n",
            "[Tue, 13 May 2025 01:47:01 INFO] epoch: 003 - iter: 00800 - train loss: 1.8161 - time elapsed/per batch: 65.8323 0.3292\n",
            "[Tue, 13 May 2025 01:48:06 INFO] epoch: 003 - iter: 01000 - train loss: 1.8100 - time elapsed/per batch: 65.1946 0.3260\n",
            "[Tue, 13 May 2025 01:49:11 INFO] epoch: 003 - iter: 01200 - train loss: 1.7730 - time elapsed/per batch: 65.6660 0.3283\n",
            "[Tue, 13 May 2025 02:10:08 INFO] epoch: 003 - iter: 01334 - valid loss: 2.8031 - bleu score: 0.1108 - full evaluation time: 1212.6881\n",
            "[Tue, 13 May 2025 02:11:14 INFO] epoch: 004 - iter: 00200 - train loss: 1.6993 - time elapsed/per batch: 66.1736 0.3309\n",
            "[Tue, 13 May 2025 02:12:19 INFO] epoch: 004 - iter: 00400 - train loss: 1.6708 - time elapsed/per batch: 65.1362 0.3257\n",
            "[Tue, 13 May 2025 02:13:25 INFO] epoch: 004 - iter: 00600 - train loss: 1.6698 - time elapsed/per batch: 65.9106 0.3296\n",
            "[Tue, 13 May 2025 02:14:31 INFO] epoch: 004 - iter: 00800 - train loss: 1.6687 - time elapsed/per batch: 65.4379 0.3272\n",
            "[Tue, 13 May 2025 02:15:36 INFO] epoch: 004 - iter: 01000 - train loss: 1.6323 - time elapsed/per batch: 65.5107 0.3276\n",
            "[Tue, 13 May 2025 02:16:42 INFO] epoch: 004 - iter: 01200 - train loss: 1.6283 - time elapsed/per batch: 65.5362 0.3277\n",
            "[Tue, 13 May 2025 02:38:02 INFO] epoch: 004 - iter: 01334 - valid loss: 2.7527 - bleu score: 0.1167 - full evaluation time: 1236.4381\n",
            "[Tue, 13 May 2025 02:39:08 INFO] epoch: 005 - iter: 00200 - train loss: 1.5439 - time elapsed/per batch: 65.7881 0.3289\n",
            "[Tue, 13 May 2025 02:40:13 INFO] epoch: 005 - iter: 00400 - train loss: 1.5456 - time elapsed/per batch: 65.4819 0.3274\n",
            "[Tue, 13 May 2025 02:41:19 INFO] epoch: 005 - iter: 00600 - train loss: 1.5450 - time elapsed/per batch: 65.7197 0.3286\n",
            "[Tue, 13 May 2025 02:42:24 INFO] epoch: 005 - iter: 00800 - train loss: 1.5543 - time elapsed/per batch: 65.1840 0.3259\n",
            "[Tue, 13 May 2025 02:43:30 INFO] epoch: 005 - iter: 01000 - train loss: 1.5336 - time elapsed/per batch: 65.2744 0.3264\n",
            "[Tue, 13 May 2025 02:44:36 INFO] epoch: 005 - iter: 01200 - train loss: 1.5326 - time elapsed/per batch: 66.0285 0.3301\n",
            "[Tue, 13 May 2025 03:06:27 INFO] epoch: 005 - iter: 01334 - valid loss: 2.7920 - bleu score: 0.1273 - full evaluation time: 1267.5303\n",
            "[Tue, 13 May 2025 03:07:33 INFO] epoch: 006 - iter: 00200 - train loss: 1.4623 - time elapsed/per batch: 66.0970 0.3305\n",
            "[Tue, 13 May 2025 03:08:39 INFO] epoch: 006 - iter: 00400 - train loss: 1.4426 - time elapsed/per batch: 65.2120 0.3261\n",
            "[Tue, 13 May 2025 03:09:44 INFO] epoch: 006 - iter: 00600 - train loss: 1.4448 - time elapsed/per batch: 65.5958 0.3280\n",
            "[Tue, 13 May 2025 03:10:49 INFO] epoch: 006 - iter: 00800 - train loss: 1.4454 - time elapsed/per batch: 65.2077 0.3260\n",
            "[Tue, 13 May 2025 03:11:55 INFO] epoch: 006 - iter: 01000 - train loss: 1.4432 - time elapsed/per batch: 65.9227 0.3296\n",
            "[Tue, 13 May 2025 03:13:01 INFO] epoch: 006 - iter: 01200 - train loss: 1.4540 - time elapsed/per batch: 65.4702 0.3274\n",
            "[Tue, 13 May 2025 03:34:40 INFO] epoch: 006 - iter: 01334 - valid loss: 2.7897 - bleu score: 0.1626 - full evaluation time: 1254.6651\n",
            "[Tue, 13 May 2025 03:35:45 INFO] epoch: 007 - iter: 00200 - train loss: 1.3848 - time elapsed/per batch: 65.3367 0.3267\n",
            "[Tue, 13 May 2025 03:36:51 INFO] epoch: 007 - iter: 00400 - train loss: 1.3845 - time elapsed/per batch: 65.5871 0.3279\n",
            "[Tue, 13 May 2025 03:37:56 INFO] epoch: 007 - iter: 00600 - train loss: 1.3826 - time elapsed/per batch: 65.0919 0.3255\n",
            "[Tue, 13 May 2025 03:39:02 INFO] epoch: 007 - iter: 00800 - train loss: 1.3640 - time elapsed/per batch: 66.0080 0.3300\n",
            "[Tue, 13 May 2025 03:40:07 INFO] epoch: 007 - iter: 01000 - train loss: 1.3690 - time elapsed/per batch: 65.3007 0.3265\n",
            "[Tue, 13 May 2025 03:41:12 INFO] epoch: 007 - iter: 01200 - train loss: 1.3673 - time elapsed/per batch: 65.2723 0.3264\n",
            "[Tue, 13 May 2025 04:02:38 INFO] epoch: 007 - iter: 01334 - valid loss: 2.8800 - bleu score: 0.1235 - full evaluation time: 1241.5605\n",
            "[Tue, 13 May 2025 04:03:43 INFO] epoch: 008 - iter: 00200 - train loss: 1.3130 - time elapsed/per batch: 65.6202 0.3281\n",
            "[Tue, 13 May 2025 04:04:48 INFO] epoch: 008 - iter: 00400 - train loss: 1.3225 - time elapsed/per batch: 65.1541 0.3258\n",
            "[Tue, 13 May 2025 04:05:54 INFO] epoch: 008 - iter: 00600 - train loss: 1.3053 - time elapsed/per batch: 65.4284 0.3271\n",
            "[Tue, 13 May 2025 04:07:00 INFO] epoch: 008 - iter: 00800 - train loss: 1.3133 - time elapsed/per batch: 65.9424 0.3297\n",
            "[Tue, 13 May 2025 04:08:05 INFO] epoch: 008 - iter: 01000 - train loss: 1.3148 - time elapsed/per batch: 65.0472 0.3252\n",
            "[Tue, 13 May 2025 04:09:10 INFO] epoch: 008 - iter: 01200 - train loss: 1.3277 - time elapsed/per batch: 65.1787 0.3259\n",
            "[Tue, 13 May 2025 04:30:56 INFO] epoch: 008 - iter: 01334 - valid loss: 2.7918 - bleu score: 0.1512 - full evaluation time: 1262.8262\n",
            "[Tue, 13 May 2025 04:32:02 INFO] epoch: 009 - iter: 00200 - train loss: 1.2532 - time elapsed/per batch: 65.8162 0.3291\n",
            "[Tue, 13 May 2025 04:33:07 INFO] epoch: 009 - iter: 00400 - train loss: 1.2708 - time elapsed/per batch: 64.7156 0.3236\n",
            "[Tue, 13 May 2025 04:34:12 INFO] epoch: 009 - iter: 00600 - train loss: 1.2589 - time elapsed/per batch: 65.1090 0.3255\n",
            "[Tue, 13 May 2025 04:35:18 INFO] epoch: 009 - iter: 00800 - train loss: 1.2656 - time elapsed/per batch: 65.4325 0.3272\n",
            "[Tue, 13 May 2025 04:36:23 INFO] epoch: 009 - iter: 01000 - train loss: 1.2627 - time elapsed/per batch: 65.8227 0.3291\n",
            "[Tue, 13 May 2025 04:37:29 INFO] epoch: 009 - iter: 01200 - train loss: 1.2648 - time elapsed/per batch: 65.6275 0.3281\n"
          ]
        }
      ]
    },
    {
      "cell_type": "code",
      "source": [],
      "metadata": {
        "id": "W8_TtZEoJ2EM"
      },
      "execution_count": null,
      "outputs": []
    },
    {
      "cell_type": "markdown",
      "source": [
        "xong thì lưu vào"
      ],
      "metadata": {
        "id": "QbPS1ZOUJ_h0"
      }
    },
    {
      "cell_type": "code",
      "source": [
        "!cp models/vi_lo.model/checkpoint_last.pt /content/drive/MyDrive/"
      ],
      "metadata": {
        "id": "vUTPPa1VdjLM",
        "colab": {
          "base_uri": "https://localhost:8080/"
        },
        "outputId": "2e2a93a6-dc73-41d2-8f74-1f7be0703276"
      },
      "execution_count": null,
      "outputs": [
        {
          "output_type": "stream",
          "name": "stdout",
          "text": [
            "cp: cannot stat 'models/vi_lo.model/checkpoint_last.pt': No such file or directory\n"
          ]
        }
      ]
    }
  ]
}